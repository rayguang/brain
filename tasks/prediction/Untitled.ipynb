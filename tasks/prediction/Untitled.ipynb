{
 "cells": [
  {
   "cell_type": "code",
   "execution_count": 7,
   "metadata": {},
   "outputs": [
    {
     "name": "stdout",
     "output_type": "stream",
     "text": [
      "Automatically created module for IPython interactive environment\n"
     ]
    },
    {
     "ename": "NameError",
     "evalue": "name 'numpy' is not defined",
     "output_type": "error",
     "traceback": [
      "\u001b[0;31m---------------------------------------------------------------------------\u001b[0m",
      "\u001b[0;31mNameError\u001b[0m                                 Traceback (most recent call last)",
      "\u001b[0;32m<ipython-input-7-68d40fe36358>\u001b[0m in \u001b[0;36m<module>\u001b[0;34m\u001b[0m\n\u001b[1;32m     30\u001b[0m \u001b[0mplt\u001b[0m\u001b[0;34m.\u001b[0m\u001b[0mplot\u001b[0m\u001b[0;34m(\u001b[0m\u001b[0mreg2\u001b[0m\u001b[0;34m.\u001b[0m\u001b[0mpredict\u001b[0m\u001b[0;34m(\u001b[0m\u001b[0mxt\u001b[0m\u001b[0;34m)\u001b[0m\u001b[0;34m,\u001b[0m \u001b[0;34m'b^'\u001b[0m\u001b[0;34m,\u001b[0m \u001b[0mlabel\u001b[0m\u001b[0;34m=\u001b[0m\u001b[0;34m'RandomForestRegressor'\u001b[0m\u001b[0;34m)\u001b[0m\u001b[0;34m\u001b[0m\u001b[0;34m\u001b[0m\u001b[0m\n\u001b[1;32m     31\u001b[0m \u001b[0mplt\u001b[0m\u001b[0;34m.\u001b[0m\u001b[0mplot\u001b[0m\u001b[0;34m(\u001b[0m\u001b[0mreg3\u001b[0m\u001b[0;34m.\u001b[0m\u001b[0mpredict\u001b[0m\u001b[0;34m(\u001b[0m\u001b[0mxt\u001b[0m\u001b[0;34m)\u001b[0m\u001b[0;34m,\u001b[0m \u001b[0;34m'ys'\u001b[0m\u001b[0;34m,\u001b[0m \u001b[0mlabel\u001b[0m\u001b[0;34m=\u001b[0m\u001b[0;34m'LinearRegression'\u001b[0m\u001b[0;34m)\u001b[0m\u001b[0;34m\u001b[0m\u001b[0;34m\u001b[0m\u001b[0m\n\u001b[0;32m---> 32\u001b[0;31m \u001b[0mplt\u001b[0m\u001b[0;34m.\u001b[0m\u001b[0mplot\u001b[0m\u001b[0;34m(\u001b[0m\u001b[0mereg\u001b[0m\u001b[0;34m.\u001b[0m\u001b[0mpredict\u001b[0m\u001b[0;34m(\u001b[0m\u001b[0mnumpy\u001b[0m\u001b[0;34m.\u001b[0m\u001b[0masarray\u001b[0m\u001b[0;34m(\u001b[0m\u001b[0mxt\u001b[0m\u001b[0;34m)\u001b[0m\u001b[0;34m)\u001b[0m\u001b[0;34m,\u001b[0m \u001b[0;34m'r*'\u001b[0m\u001b[0;34m,\u001b[0m \u001b[0mlabel\u001b[0m\u001b[0;34m=\u001b[0m\u001b[0;34m'VotingRegressor'\u001b[0m\u001b[0;34m)\u001b[0m\u001b[0;34m\u001b[0m\u001b[0;34m\u001b[0m\u001b[0m\n\u001b[0m\u001b[1;32m     33\u001b[0m plt.tick_params(axis='x', which='both', bottom=False, top=False,\n\u001b[1;32m     34\u001b[0m                 labelbottom=False)\n",
      "\u001b[0;31mNameError\u001b[0m: name 'numpy' is not defined"
     ]
    },
    {
     "data": {
      "image/png": "[encoded data removed]",
      "text/plain": [
       "<Figure size 432x288 with 1 Axes>"
      ]
     },
     "metadata": {
      "needs_background": "light"
     },
     "output_type": "display_data"
    }
   ],
   "source": [
    "print(__doc__)\n",
    "\n",
    "import matplotlib.pyplot as plt\n",
    "\n",
    "from sklearn import datasets\n",
    "from sklearn.ensemble import GradientBoostingRegressor\n",
    "from sklearn.ensemble import RandomForestRegressor\n",
    "from sklearn.linear_model import LinearRegression\n",
    "from sklearn.ensemble import VotingRegressor\n",
    "\n",
    "# Loading some example data\n",
    "boston = datasets.load_boston()\n",
    "X = boston.data\n",
    "y = boston.target\n",
    "\n",
    "# Training classifiers\n",
    "reg1 = GradientBoostingRegressor(random_state=1, n_estimators=10)\n",
    "reg2 = RandomForestRegressor(random_state=1, n_estimators=10)\n",
    "reg3 = LinearRegression()\n",
    "ereg = VotingRegressor([('gb', reg1), ('rf', reg2), ('lr', reg3)])\n",
    "reg1.fit(X, y)\n",
    "reg2.fit(X, y)\n",
    "reg3.fit(X, y)\n",
    "ereg.fit(X, y)\n",
    "\n",
    "xt = X[:20]\n",
    "\n",
    "plt.figure()\n",
    "plt.plot(reg1.predict(xt), 'gd', label='GradientBoostingRegressor')\n",
    "plt.plot(reg2.predict(xt), 'b^', label='RandomForestRegressor')\n",
    "plt.plot(reg3.predict(xt), 'ys', label='LinearRegression')\n",
    "plt.plot(ereg.predict(numpy.asarray(xt)), 'r*', label='VotingRegressor')\n",
    "plt.tick_params(axis='x', which='both', bottom=False, top=False,\n",
    "                labelbottom=False)\n",
    "plt.ylabel('predicted')\n",
    "plt.xlabel('training samples')\n",
    "plt.legend(loc=\"best\")\n",
    "plt.title('Comparison of individual predictions with averaged')\n",
    "plt.show()"
   ]
  },
  {
   "cell_type": "code",
   "execution_count": 6,
   "metadata": {},
   "outputs": [
    {
     "data": {
      "text/plain": [
       "array([[6.32000e-03, 1.80000e+01, 2.31000e+00, 0.00000e+00, 5.38000e-01,\n",
       "        6.57500e+00, 6.52000e+01, 4.09000e+00, 1.00000e+00, 2.96000e+02,\n",
       "        1.53000e+01, 3.96900e+02, 4.98000e+00],\n",
       "       [2.73100e-02, 0.00000e+00, 7.07000e+00, 0.00000e+00, 4.69000e-01,\n",
       "        6.42100e+00, 7.89000e+01, 4.96710e+00, 2.00000e+00, 2.42000e+02,\n",
       "        1.78000e+01, 3.96900e+02, 9.14000e+00],\n",
       "       [2.72900e-02, 0.00000e+00, 7.07000e+00, 0.00000e+00, 4.69000e-01,\n",
       "        7.18500e+00, 6.11000e+01, 4.96710e+00, 2.00000e+00, 2.42000e+02,\n",
       "        1.78000e+01, 3.92830e+02, 4.03000e+00],\n",
       "       [3.23700e-02, 0.00000e+00, 2.18000e+00, 0.00000e+00, 4.58000e-01,\n",
       "        6.99800e+00, 4.58000e+01, 6.06220e+00, 3.00000e+00, 2.22000e+02,\n",
       "        1.87000e+01, 3.94630e+02, 2.94000e+00],\n",
       "       [6.90500e-02, 0.00000e+00, 2.18000e+00, 0.00000e+00, 4.58000e-01,\n",
       "        7.14700e+00, 5.42000e+01, 6.06220e+00, 3.00000e+00, 2.22000e+02,\n",
       "        1.87000e+01, 3.96900e+02, 5.33000e+00],\n",
       "       [2.98500e-02, 0.00000e+00, 2.18000e+00, 0.00000e+00, 4.58000e-01,\n",
       "        6.43000e+00, 5.87000e+01, 6.06220e+00, 3.00000e+00, 2.22000e+02,\n",
       "        1.87000e+01, 3.94120e+02, 5.21000e+00],\n",
       "       [8.82900e-02, 1.25000e+01, 7.87000e+00, 0.00000e+00, 5.24000e-01,\n",
       "        6.01200e+00, 6.66000e+01, 5.56050e+00, 5.00000e+00, 3.11000e+02,\n",
       "        1.52000e+01, 3.95600e+02, 1.24300e+01],\n",
       "       [1.44550e-01, 1.25000e+01, 7.87000e+00, 0.00000e+00, 5.24000e-01,\n",
       "        6.17200e+00, 9.61000e+01, 5.95050e+00, 5.00000e+00, 3.11000e+02,\n",
       "        1.52000e+01, 3.96900e+02, 1.91500e+01],\n",
       "       [2.11240e-01, 1.25000e+01, 7.87000e+00, 0.00000e+00, 5.24000e-01,\n",
       "        5.63100e+00, 1.00000e+02, 6.08210e+00, 5.00000e+00, 3.11000e+02,\n",
       "        1.52000e+01, 3.86630e+02, 2.99300e+01],\n",
       "       [1.70040e-01, 1.25000e+01, 7.87000e+00, 0.00000e+00, 5.24000e-01,\n",
       "        6.00400e+00, 8.59000e+01, 6.59210e+00, 5.00000e+00, 3.11000e+02,\n",
       "        1.52000e+01, 3.86710e+02, 1.71000e+01],\n",
       "       [2.24890e-01, 1.25000e+01, 7.87000e+00, 0.00000e+00, 5.24000e-01,\n",
       "        6.37700e+00, 9.43000e+01, 6.34670e+00, 5.00000e+00, 3.11000e+02,\n",
       "        1.52000e+01, 3.92520e+02, 2.04500e+01],\n",
       "       [1.17470e-01, 1.25000e+01, 7.87000e+00, 0.00000e+00, 5.24000e-01,\n",
       "        6.00900e+00, 8.29000e+01, 6.22670e+00, 5.00000e+00, 3.11000e+02,\n",
       "        1.52000e+01, 3.96900e+02, 1.32700e+01],\n",
       "       [9.37800e-02, 1.25000e+01, 7.87000e+00, 0.00000e+00, 5.24000e-01,\n",
       "        5.88900e+00, 3.90000e+01, 5.45090e+00, 5.00000e+00, 3.11000e+02,\n",
       "        1.52000e+01, 3.90500e+02, 1.57100e+01],\n",
       "       [6.29760e-01, 0.00000e+00, 8.14000e+00, 0.00000e+00, 5.38000e-01,\n",
       "        5.94900e+00, 6.18000e+01, 4.70750e+00, 4.00000e+00, 3.07000e+02,\n",
       "        2.10000e+01, 3.96900e+02, 8.26000e+00],\n",
       "       [6.37960e-01, 0.00000e+00, 8.14000e+00, 0.00000e+00, 5.38000e-01,\n",
       "        6.09600e+00, 8.45000e+01, 4.46190e+00, 4.00000e+00, 3.07000e+02,\n",
       "        2.10000e+01, 3.80020e+02, 1.02600e+01],\n",
       "       [6.27390e-01, 0.00000e+00, 8.14000e+00, 0.00000e+00, 5.38000e-01,\n",
       "        5.83400e+00, 5.65000e+01, 4.49860e+00, 4.00000e+00, 3.07000e+02,\n",
       "        2.10000e+01, 3.95620e+02, 8.47000e+00],\n",
       "       [1.05393e+00, 0.00000e+00, 8.14000e+00, 0.00000e+00, 5.38000e-01,\n",
       "        5.93500e+00, 2.93000e+01, 4.49860e+00, 4.00000e+00, 3.07000e+02,\n",
       "        2.10000e+01, 3.86850e+02, 6.58000e+00],\n",
       "       [7.84200e-01, 0.00000e+00, 8.14000e+00, 0.00000e+00, 5.38000e-01,\n",
       "        5.99000e+00, 8.17000e+01, 4.25790e+00, 4.00000e+00, 3.07000e+02,\n",
       "        2.10000e+01, 3.86750e+02, 1.46700e+01],\n",
       "       [8.02710e-01, 0.00000e+00, 8.14000e+00, 0.00000e+00, 5.38000e-01,\n",
       "        5.45600e+00, 3.66000e+01, 3.79650e+00, 4.00000e+00, 3.07000e+02,\n",
       "        2.10000e+01, 2.88990e+02, 1.16900e+01],\n",
       "       [7.25800e-01, 0.00000e+00, 8.14000e+00, 0.00000e+00, 5.38000e-01,\n",
       "        5.72700e+00, 6.95000e+01, 3.79650e+00, 4.00000e+00, 3.07000e+02,\n",
       "        2.10000e+01, 3.90950e+02, 1.12800e+01]])"
      ]
     },
     "execution_count": 6,
     "metadata": {},
     "output_type": "execute_result"
    }
   ],
   "source": [
    "xt"
   ]
  },
  {
   "cell_type": "code",
   "execution_count": null,
   "metadata": {},
   "outputs": [],
   "source": []
  }
 ],
 "metadata": {
  "kernelspec": {
   "display_name": "Python 3",
   "language": "python",
   "name": "python3"
  },
  "language_info": {
   "codemirror_mode": {
    "name": "ipython",
    "version": 3
   },
   "file_extension": ".py",
   "mimetype": "text/x-python",
   "name": "python",
   "nbconvert_exporter": "python",
   "pygments_lexer": "ipython3",
   "version": "3.7.1"
  }
 },
 "nbformat": 4,
 "nbformat_minor": 2
}
