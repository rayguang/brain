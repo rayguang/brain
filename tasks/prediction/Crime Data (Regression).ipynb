{
 "cells": [
  {
   "cell_type": "markdown",
   "metadata": {},
   "source": [
    "### Dataset: training, validation and test \n"
   ]
  },
  {
   "cell_type": "code",
   "execution_count": 1,
   "metadata": {},
   "outputs": [],
   "source": [
    "import pandas as pd\n",
    "import numpy as np\n",
    "\n",
    "from sklearn import svm\n",
    "from sklearn.svm import SVR\n",
    "from sklearn import tree, metrics\n",
    "from sklearn.tree import DecisionTreeClassifier\n",
    "from sklearn import model_selection\n",
    "from sklearn.model_selection import train_test_split\n",
    "from sklearn.model_selection import cross_val_score, cross_val_predict\n",
    "from sklearn.feature_selection import f_regression, mutual_info_regression\n",
    "from sklearn.linear_model import LogisticRegression\n",
    "from sklearn.neighbors import KNeighborsRegressor\n",
    "from sklearn.ensemble import RandomForestRegressor\n",
    "from sklearn.ensemble import GradientBoostingRegressor\n",
    "from sklearn.linear_model import LinearRegression\n",
    "from sklearn.ensemble import VotingRegressor\n",
    "\n",
    "import xgboost as xgb\n",
    "from sklearn.metrics import mean_squared_error\n",
    "from sklearn.preprocessing import Imputer\n",
    "from sklearn.preprocessing import LabelEncoder\n",
    "\n",
    "from sklearn.feature_selection import SelectKBest, RFE\n",
    "from sklearn.feature_selection import RFECV\n",
    "from sklearn.decomposition import PCA\n",
    "\n",
    "import matplotlib.pyplot as plt\n",
    "\n",
    "import time\n",
    "\n",
    "import warnings\n",
    "warnings.filterwarnings(\"ignore\")"
   ]
  },
  {
   "cell_type": "markdown",
   "metadata": {},
   "source": [
    "### Exploratory Data Analysis\n",
    "crime_prep.csv contains many missing data in column 2 (county) and 3 (community). \n",
    "For missing data:\n",
    "1) if it is missing at random, we can drop the data;\n",
    "2) if it is missing not at random (e.g., depend on other variables), we can use imputation to reduce bias.\n",
    "\n",
    "k-fold CV (cross-validation) is used to reduce the risk of overfitting;\n",
    "imputation is used to fill missing data (using mean value)"
   ]
  },
  {
   "cell_type": "code",
   "execution_count": 3,
   "metadata": {},
   "outputs": [],
   "source": [
    "df_prep = pd.read_csv('crime_prep.csv')"
   ]
  },
  {
   "cell_type": "code",
   "execution_count": 4,
   "metadata": {},
   "outputs": [
    {
     "name": "stdout",
     "output_type": "stream",
     "text": [
      "(1994, 128)\n",
      "<class 'pandas.core.frame.DataFrame'>\n",
      "RangeIndex: 1994 entries, 0 to 1993\n",
      "Columns: 128 entries, target to v_cont_126\n",
      "dtypes: float64(125), int64(2), object(1)\n",
      "memory usage: 1.9+ MB\n",
      "None\n"
     ]
    },
    {
     "data": {
      "text/html": [
       "<div>\n",
       "<style scoped>\n",
       "    .dataframe tbody tr th:only-of-type {\n",
       "        vertical-align: middle;\n",
       "    }\n",
       "\n",
       "    .dataframe tbody tr th {\n",
       "        vertical-align: top;\n",
       "    }\n",
       "\n",
       "    .dataframe thead th {\n",
       "        text-align: right;\n",
       "    }\n",
       "</style>\n",
       "<table border=\"1\" class=\"dataframe\">\n",
       "  <thead>\n",
       "    <tr style=\"text-align: right;\">\n",
       "      <th></th>\n",
       "      <th>target</th>\n",
       "      <th>v_cont_0</th>\n",
       "      <th>v_cat_0</th>\n",
       "      <th>v_cat_1</th>\n",
       "      <th>v_cat_3</th>\n",
       "      <th>v_cont_5</th>\n",
       "      <th>v_cont_6</th>\n",
       "      <th>v_cont_7</th>\n",
       "      <th>v_cont_8</th>\n",
       "      <th>v_cont_9</th>\n",
       "      <th>...</th>\n",
       "      <th>v_cont_117</th>\n",
       "      <th>v_cont_118</th>\n",
       "      <th>v_cont_119</th>\n",
       "      <th>v_cont_120</th>\n",
       "      <th>v_cont_121</th>\n",
       "      <th>v_cont_122</th>\n",
       "      <th>v_cont_123</th>\n",
       "      <th>v_cont_124</th>\n",
       "      <th>v_cont_125</th>\n",
       "      <th>v_cont_126</th>\n",
       "    </tr>\n",
       "  </thead>\n",
       "  <tbody>\n",
       "    <tr>\n",
       "      <th>count</th>\n",
       "      <td>1994.000000</td>\n",
       "      <td>1994.000000</td>\n",
       "      <td>820.000000</td>\n",
       "      <td>817.000000</td>\n",
       "      <td>1994.000000</td>\n",
       "      <td>1994.000000</td>\n",
       "      <td>1994.000000</td>\n",
       "      <td>1994.000000</td>\n",
       "      <td>1994.000000</td>\n",
       "      <td>1994.000000</td>\n",
       "      <td>...</td>\n",
       "      <td>319.000000</td>\n",
       "      <td>1994.000000</td>\n",
       "      <td>1994.000000</td>\n",
       "      <td>1994.000000</td>\n",
       "      <td>319.000000</td>\n",
       "      <td>319.000000</td>\n",
       "      <td>319.000000</td>\n",
       "      <td>319.000000</td>\n",
       "      <td>1994.000000</td>\n",
       "      <td>319.000000</td>\n",
       "    </tr>\n",
       "    <tr>\n",
       "      <th>mean</th>\n",
       "      <td>0.237979</td>\n",
       "      <td>28.683551</td>\n",
       "      <td>58.826829</td>\n",
       "      <td>46188.336597</td>\n",
       "      <td>5.493982</td>\n",
       "      <td>0.057593</td>\n",
       "      <td>0.463395</td>\n",
       "      <td>0.179629</td>\n",
       "      <td>0.753716</td>\n",
       "      <td>0.153681</td>\n",
       "      <td>...</td>\n",
       "      <td>0.305987</td>\n",
       "      <td>0.065231</td>\n",
       "      <td>0.232854</td>\n",
       "      <td>0.161685</td>\n",
       "      <td>0.163103</td>\n",
       "      <td>0.076708</td>\n",
       "      <td>0.698589</td>\n",
       "      <td>0.440439</td>\n",
       "      <td>0.094052</td>\n",
       "      <td>0.195078</td>\n",
       "    </tr>\n",
       "    <tr>\n",
       "      <th>std</th>\n",
       "      <td>0.232985</td>\n",
       "      <td>16.397553</td>\n",
       "      <td>126.420560</td>\n",
       "      <td>25299.726569</td>\n",
       "      <td>2.873694</td>\n",
       "      <td>0.126906</td>\n",
       "      <td>0.163717</td>\n",
       "      <td>0.253442</td>\n",
       "      <td>0.244039</td>\n",
       "      <td>0.208877</td>\n",
       "      <td>...</td>\n",
       "      <td>0.226884</td>\n",
       "      <td>0.109459</td>\n",
       "      <td>0.203092</td>\n",
       "      <td>0.229055</td>\n",
       "      <td>0.214778</td>\n",
       "      <td>0.140207</td>\n",
       "      <td>0.213944</td>\n",
       "      <td>0.405808</td>\n",
       "      <td>0.240328</td>\n",
       "      <td>0.164718</td>\n",
       "    </tr>\n",
       "    <tr>\n",
       "      <th>min</th>\n",
       "      <td>0.000000</td>\n",
       "      <td>1.000000</td>\n",
       "      <td>1.000000</td>\n",
       "      <td>70.000000</td>\n",
       "      <td>1.000000</td>\n",
       "      <td>0.000000</td>\n",
       "      <td>0.000000</td>\n",
       "      <td>0.000000</td>\n",
       "      <td>0.000000</td>\n",
       "      <td>0.000000</td>\n",
       "      <td>...</td>\n",
       "      <td>0.000000</td>\n",
       "      <td>0.000000</td>\n",
       "      <td>0.000000</td>\n",
       "      <td>0.000000</td>\n",
       "      <td>0.000000</td>\n",
       "      <td>0.000000</td>\n",
       "      <td>0.000000</td>\n",
       "      <td>0.000000</td>\n",
       "      <td>0.000000</td>\n",
       "      <td>0.000000</td>\n",
       "    </tr>\n",
       "    <tr>\n",
       "      <th>25%</th>\n",
       "      <td>0.070000</td>\n",
       "      <td>12.000000</td>\n",
       "      <td>9.000000</td>\n",
       "      <td>25065.000000</td>\n",
       "      <td>3.000000</td>\n",
       "      <td>0.010000</td>\n",
       "      <td>0.350000</td>\n",
       "      <td>0.020000</td>\n",
       "      <td>0.630000</td>\n",
       "      <td>0.040000</td>\n",
       "      <td>...</td>\n",
       "      <td>0.140000</td>\n",
       "      <td>0.020000</td>\n",
       "      <td>0.100000</td>\n",
       "      <td>0.020000</td>\n",
       "      <td>0.040000</td>\n",
       "      <td>0.020000</td>\n",
       "      <td>0.620000</td>\n",
       "      <td>0.000000</td>\n",
       "      <td>0.000000</td>\n",
       "      <td>0.110000</td>\n",
       "    </tr>\n",
       "    <tr>\n",
       "      <th>50%</th>\n",
       "      <td>0.150000</td>\n",
       "      <td>34.000000</td>\n",
       "      <td>23.000000</td>\n",
       "      <td>48090.000000</td>\n",
       "      <td>5.000000</td>\n",
       "      <td>0.020000</td>\n",
       "      <td>0.440000</td>\n",
       "      <td>0.060000</td>\n",
       "      <td>0.850000</td>\n",
       "      <td>0.070000</td>\n",
       "      <td>...</td>\n",
       "      <td>0.260000</td>\n",
       "      <td>0.040000</td>\n",
       "      <td>0.170000</td>\n",
       "      <td>0.070000</td>\n",
       "      <td>0.080000</td>\n",
       "      <td>0.030000</td>\n",
       "      <td>0.750000</td>\n",
       "      <td>0.500000</td>\n",
       "      <td>0.000000</td>\n",
       "      <td>0.150000</td>\n",
       "    </tr>\n",
       "    <tr>\n",
       "      <th>75%</th>\n",
       "      <td>0.330000</td>\n",
       "      <td>42.000000</td>\n",
       "      <td>59.500000</td>\n",
       "      <td>66660.000000</td>\n",
       "      <td>8.000000</td>\n",
       "      <td>0.050000</td>\n",
       "      <td>0.540000</td>\n",
       "      <td>0.230000</td>\n",
       "      <td>0.940000</td>\n",
       "      <td>0.170000</td>\n",
       "      <td>...</td>\n",
       "      <td>0.395000</td>\n",
       "      <td>0.070000</td>\n",
       "      <td>0.280000</td>\n",
       "      <td>0.190000</td>\n",
       "      <td>0.195000</td>\n",
       "      <td>0.060000</td>\n",
       "      <td>0.840000</td>\n",
       "      <td>1.000000</td>\n",
       "      <td>0.000000</td>\n",
       "      <td>0.220000</td>\n",
       "    </tr>\n",
       "    <tr>\n",
       "      <th>max</th>\n",
       "      <td>1.000000</td>\n",
       "      <td>56.000000</td>\n",
       "      <td>840.000000</td>\n",
       "      <td>94597.000000</td>\n",
       "      <td>10.000000</td>\n",
       "      <td>1.000000</td>\n",
       "      <td>1.000000</td>\n",
       "      <td>1.000000</td>\n",
       "      <td>1.000000</td>\n",
       "      <td>1.000000</td>\n",
       "      <td>...</td>\n",
       "      <td>1.000000</td>\n",
       "      <td>1.000000</td>\n",
       "      <td>1.000000</td>\n",
       "      <td>1.000000</td>\n",
       "      <td>1.000000</td>\n",
       "      <td>1.000000</td>\n",
       "      <td>1.000000</td>\n",
       "      <td>1.000000</td>\n",
       "      <td>1.000000</td>\n",
       "      <td>1.000000</td>\n",
       "    </tr>\n",
       "  </tbody>\n",
       "</table>\n",
       "<p>8 rows × 127 columns</p>\n",
       "</div>"
      ],
      "text/plain": [
       "            target     v_cont_0     v_cat_0       v_cat_1      v_cat_3  \\\n",
       "count  1994.000000  1994.000000  820.000000    817.000000  1994.000000   \n",
       "mean      0.237979    28.683551   58.826829  46188.336597     5.493982   \n",
       "std       0.232985    16.397553  126.420560  25299.726569     2.873694   \n",
       "min       0.000000     1.000000    1.000000     70.000000     1.000000   \n",
       "25%       0.070000    12.000000    9.000000  25065.000000     3.000000   \n",
       "50%       0.150000    34.000000   23.000000  48090.000000     5.000000   \n",
       "75%       0.330000    42.000000   59.500000  66660.000000     8.000000   \n",
       "max       1.000000    56.000000  840.000000  94597.000000    10.000000   \n",
       "\n",
       "          v_cont_5     v_cont_6     v_cont_7     v_cont_8     v_cont_9  ...  \\\n",
       "count  1994.000000  1994.000000  1994.000000  1994.000000  1994.000000  ...   \n",
       "mean      0.057593     0.463395     0.179629     0.753716     0.153681  ...   \n",
       "std       0.126906     0.163717     0.253442     0.244039     0.208877  ...   \n",
       "min       0.000000     0.000000     0.000000     0.000000     0.000000  ...   \n",
       "25%       0.010000     0.350000     0.020000     0.630000     0.040000  ...   \n",
       "50%       0.020000     0.440000     0.060000     0.850000     0.070000  ...   \n",
       "75%       0.050000     0.540000     0.230000     0.940000     0.170000  ...   \n",
       "max       1.000000     1.000000     1.000000     1.000000     1.000000  ...   \n",
       "\n",
       "       v_cont_117   v_cont_118   v_cont_119   v_cont_120  v_cont_121  \\\n",
       "count  319.000000  1994.000000  1994.000000  1994.000000  319.000000   \n",
       "mean     0.305987     0.065231     0.232854     0.161685    0.163103   \n",
       "std      0.226884     0.109459     0.203092     0.229055    0.214778   \n",
       "min      0.000000     0.000000     0.000000     0.000000    0.000000   \n",
       "25%      0.140000     0.020000     0.100000     0.020000    0.040000   \n",
       "50%      0.260000     0.040000     0.170000     0.070000    0.080000   \n",
       "75%      0.395000     0.070000     0.280000     0.190000    0.195000   \n",
       "max      1.000000     1.000000     1.000000     1.000000    1.000000   \n",
       "\n",
       "       v_cont_122  v_cont_123  v_cont_124   v_cont_125  v_cont_126  \n",
       "count  319.000000  319.000000  319.000000  1994.000000  319.000000  \n",
       "mean     0.076708    0.698589    0.440439     0.094052    0.195078  \n",
       "std      0.140207    0.213944    0.405808     0.240328    0.164718  \n",
       "min      0.000000    0.000000    0.000000     0.000000    0.000000  \n",
       "25%      0.020000    0.620000    0.000000     0.000000    0.110000  \n",
       "50%      0.030000    0.750000    0.500000     0.000000    0.150000  \n",
       "75%      0.060000    0.840000    1.000000     0.000000    0.220000  \n",
       "max      1.000000    1.000000    1.000000     1.000000    1.000000  \n",
       "\n",
       "[8 rows x 127 columns]"
      ]
     },
     "execution_count": 4,
     "metadata": {},
     "output_type": "execute_result"
    }
   ],
   "source": [
    "print(df_prep.shape)\n",
    "print(df_prep.info())\n",
    "df_prep.describe()"
   ]
  },
  {
   "cell_type": "code",
   "execution_count": 5,
   "metadata": {},
   "outputs": [
    {
     "data": {
      "text/plain": [
       "target           0\n",
       "v_cont_0         0\n",
       "v_cat_0       1174\n",
       "v_cat_1       1177\n",
       "v_cat_2          0\n",
       "v_cat_3          0\n",
       "v_cont_5         0\n",
       "v_cont_6         0\n",
       "v_cont_7         0\n",
       "v_cont_8         0\n",
       "v_cont_9         0\n",
       "v_cont_10        0\n",
       "v_cont_11        0\n",
       "v_cont_12        0\n",
       "v_cont_13        0\n",
       "v_cont_14        0\n",
       "v_cont_15        0\n",
       "v_cont_16        0\n",
       "v_cont_17        0\n",
       "v_cont_18        0\n",
       "v_cont_19        0\n",
       "v_cont_20        0\n",
       "v_cont_21        0\n",
       "v_cont_22        0\n",
       "v_cont_23        0\n",
       "v_cont_24        0\n",
       "v_cont_25        0\n",
       "v_cont_26        0\n",
       "v_cont_27        0\n",
       "v_cont_28        0\n",
       "              ... \n",
       "v_cont_97        0\n",
       "v_cont_98        0\n",
       "v_cont_99        0\n",
       "v_cont_100       0\n",
       "v_cont_101    1675\n",
       "v_cont_102    1675\n",
       "v_cont_103    1675\n",
       "v_cont_104    1675\n",
       "v_cont_105    1675\n",
       "v_cont_106    1675\n",
       "v_cont_107    1675\n",
       "v_cont_108    1675\n",
       "v_cont_109    1675\n",
       "v_cont_110    1675\n",
       "v_cont_111    1675\n",
       "v_cont_112    1675\n",
       "v_cont_113    1675\n",
       "v_cont_114    1675\n",
       "v_cont_115    1675\n",
       "v_cont_116    1675\n",
       "v_cont_117    1675\n",
       "v_cont_118       0\n",
       "v_cont_119       0\n",
       "v_cont_120       0\n",
       "v_cont_121    1675\n",
       "v_cont_122    1675\n",
       "v_cont_123    1675\n",
       "v_cont_124    1675\n",
       "v_cont_125       0\n",
       "v_cont_126    1675\n",
       "Length: 128, dtype: int64"
      ]
     },
     "execution_count": 5,
     "metadata": {},
     "output_type": "execute_result"
    }
   ],
   "source": [
    "# Null/Missing values\n",
    "df_prep.isnull().sum()"
   ]
  },
  {
   "cell_type": "code",
   "execution_count": 6,
   "metadata": {},
   "outputs": [
    {
     "data": {
      "text/html": [
       "<div>\n",
       "<style scoped>\n",
       "    .dataframe tbody tr th:only-of-type {\n",
       "        vertical-align: middle;\n",
       "    }\n",
       "\n",
       "    .dataframe tbody tr th {\n",
       "        vertical-align: top;\n",
       "    }\n",
       "\n",
       "    .dataframe thead th {\n",
       "        text-align: right;\n",
       "    }\n",
       "</style>\n",
       "<table border=\"1\" class=\"dataframe\">\n",
       "  <thead>\n",
       "    <tr style=\"text-align: right;\">\n",
       "      <th></th>\n",
       "      <th>target</th>\n",
       "      <th>v_cont_0</th>\n",
       "      <th>v_cat_0</th>\n",
       "      <th>v_cat_1</th>\n",
       "      <th>v_cat_2</th>\n",
       "      <th>v_cat_3</th>\n",
       "      <th>v_cont_5</th>\n",
       "      <th>v_cont_6</th>\n",
       "      <th>v_cont_7</th>\n",
       "      <th>v_cont_8</th>\n",
       "      <th>...</th>\n",
       "      <th>v_cont_117</th>\n",
       "      <th>v_cont_118</th>\n",
       "      <th>v_cont_119</th>\n",
       "      <th>v_cont_120</th>\n",
       "      <th>v_cont_121</th>\n",
       "      <th>v_cont_122</th>\n",
       "      <th>v_cont_123</th>\n",
       "      <th>v_cont_124</th>\n",
       "      <th>v_cont_125</th>\n",
       "      <th>v_cont_126</th>\n",
       "    </tr>\n",
       "  </thead>\n",
       "  <tbody>\n",
       "    <tr>\n",
       "      <th>0</th>\n",
       "      <td>0.20</td>\n",
       "      <td>8</td>\n",
       "      <td>NaN</td>\n",
       "      <td>NaN</td>\n",
       "      <td>Lakewoodcity</td>\n",
       "      <td>1</td>\n",
       "      <td>0.19</td>\n",
       "      <td>0.33</td>\n",
       "      <td>0.02</td>\n",
       "      <td>0.90</td>\n",
       "      <td>...</td>\n",
       "      <td>0.29</td>\n",
       "      <td>0.12</td>\n",
       "      <td>0.26</td>\n",
       "      <td>0.20</td>\n",
       "      <td>0.06</td>\n",
       "      <td>0.04</td>\n",
       "      <td>0.9</td>\n",
       "      <td>0.5</td>\n",
       "      <td>0.32</td>\n",
       "      <td>0.14</td>\n",
       "    </tr>\n",
       "    <tr>\n",
       "      <th>1</th>\n",
       "      <td>0.67</td>\n",
       "      <td>53</td>\n",
       "      <td>NaN</td>\n",
       "      <td>NaN</td>\n",
       "      <td>Tukwilacity</td>\n",
       "      <td>1</td>\n",
       "      <td>0.00</td>\n",
       "      <td>0.16</td>\n",
       "      <td>0.12</td>\n",
       "      <td>0.74</td>\n",
       "      <td>...</td>\n",
       "      <td>NaN</td>\n",
       "      <td>0.02</td>\n",
       "      <td>0.12</td>\n",
       "      <td>0.45</td>\n",
       "      <td>NaN</td>\n",
       "      <td>NaN</td>\n",
       "      <td>NaN</td>\n",
       "      <td>NaN</td>\n",
       "      <td>0.00</td>\n",
       "      <td>NaN</td>\n",
       "    </tr>\n",
       "    <tr>\n",
       "      <th>2</th>\n",
       "      <td>0.43</td>\n",
       "      <td>24</td>\n",
       "      <td>NaN</td>\n",
       "      <td>NaN</td>\n",
       "      <td>Aberdeentown</td>\n",
       "      <td>1</td>\n",
       "      <td>0.00</td>\n",
       "      <td>0.42</td>\n",
       "      <td>0.49</td>\n",
       "      <td>0.56</td>\n",
       "      <td>...</td>\n",
       "      <td>NaN</td>\n",
       "      <td>0.01</td>\n",
       "      <td>0.21</td>\n",
       "      <td>0.02</td>\n",
       "      <td>NaN</td>\n",
       "      <td>NaN</td>\n",
       "      <td>NaN</td>\n",
       "      <td>NaN</td>\n",
       "      <td>0.00</td>\n",
       "      <td>NaN</td>\n",
       "    </tr>\n",
       "    <tr>\n",
       "      <th>3</th>\n",
       "      <td>0.12</td>\n",
       "      <td>34</td>\n",
       "      <td>5.0</td>\n",
       "      <td>81440.0</td>\n",
       "      <td>Willingborotownship</td>\n",
       "      <td>1</td>\n",
       "      <td>0.04</td>\n",
       "      <td>0.77</td>\n",
       "      <td>1.00</td>\n",
       "      <td>0.08</td>\n",
       "      <td>...</td>\n",
       "      <td>NaN</td>\n",
       "      <td>0.02</td>\n",
       "      <td>0.39</td>\n",
       "      <td>0.28</td>\n",
       "      <td>NaN</td>\n",
       "      <td>NaN</td>\n",
       "      <td>NaN</td>\n",
       "      <td>NaN</td>\n",
       "      <td>0.00</td>\n",
       "      <td>NaN</td>\n",
       "    </tr>\n",
       "    <tr>\n",
       "      <th>4</th>\n",
       "      <td>0.03</td>\n",
       "      <td>42</td>\n",
       "      <td>95.0</td>\n",
       "      <td>6096.0</td>\n",
       "      <td>Bethlehemtownship</td>\n",
       "      <td>1</td>\n",
       "      <td>0.01</td>\n",
       "      <td>0.55</td>\n",
       "      <td>0.02</td>\n",
       "      <td>0.95</td>\n",
       "      <td>...</td>\n",
       "      <td>NaN</td>\n",
       "      <td>0.04</td>\n",
       "      <td>0.09</td>\n",
       "      <td>0.02</td>\n",
       "      <td>NaN</td>\n",
       "      <td>NaN</td>\n",
       "      <td>NaN</td>\n",
       "      <td>NaN</td>\n",
       "      <td>0.00</td>\n",
       "      <td>NaN</td>\n",
       "    </tr>\n",
       "  </tbody>\n",
       "</table>\n",
       "<p>5 rows × 128 columns</p>\n",
       "</div>"
      ],
      "text/plain": [
       "   target  v_cont_0  v_cat_0  v_cat_1              v_cat_2  v_cat_3  v_cont_5  \\\n",
       "0    0.20         8      NaN      NaN         Lakewoodcity        1      0.19   \n",
       "1    0.67        53      NaN      NaN          Tukwilacity        1      0.00   \n",
       "2    0.43        24      NaN      NaN         Aberdeentown        1      0.00   \n",
       "3    0.12        34      5.0  81440.0  Willingborotownship        1      0.04   \n",
       "4    0.03        42     95.0   6096.0    Bethlehemtownship        1      0.01   \n",
       "\n",
       "   v_cont_6  v_cont_7  v_cont_8  ...  v_cont_117  v_cont_118  v_cont_119  \\\n",
       "0      0.33      0.02      0.90  ...        0.29        0.12        0.26   \n",
       "1      0.16      0.12      0.74  ...         NaN        0.02        0.12   \n",
       "2      0.42      0.49      0.56  ...         NaN        0.01        0.21   \n",
       "3      0.77      1.00      0.08  ...         NaN        0.02        0.39   \n",
       "4      0.55      0.02      0.95  ...         NaN        0.04        0.09   \n",
       "\n",
       "   v_cont_120  v_cont_121  v_cont_122  v_cont_123  v_cont_124  v_cont_125  \\\n",
       "0        0.20        0.06        0.04         0.9         0.5        0.32   \n",
       "1        0.45         NaN         NaN         NaN         NaN        0.00   \n",
       "2        0.02         NaN         NaN         NaN         NaN        0.00   \n",
       "3        0.28         NaN         NaN         NaN         NaN        0.00   \n",
       "4        0.02         NaN         NaN         NaN         NaN        0.00   \n",
       "\n",
       "   v_cont_126  \n",
       "0        0.14  \n",
       "1         NaN  \n",
       "2         NaN  \n",
       "3         NaN  \n",
       "4         NaN  \n",
       "\n",
       "[5 rows x 128 columns]"
      ]
     },
     "execution_count": 6,
     "metadata": {},
     "output_type": "execute_result"
    }
   ],
   "source": [
    "df_prep.head()"
   ]
  },
  {
   "cell_type": "markdown",
   "metadata": {},
   "source": [
    "#### Conclusion:\n",
    "- small dataset\n",
    "- many missing data (i.e., NaN)\n",
    "- many features, i.e., 128 features\n",
    "- mixed data types string, int and float; "
   ]
  },
  {
   "cell_type": "markdown",
   "metadata": {},
   "source": [
    "### Data Pre-processing"
   ]
  },
  {
   "cell_type": "code",
   "execution_count": 7,
   "metadata": {
    "scrolled": true
   },
   "outputs": [],
   "source": [
    "#df_prep.shape\n",
    "\n",
    "# Remove non predictive attributes, such as state, county, community, communitynames, fold\n",
    "df_prep = df_prep.drop(['v_cont_0', 'v_cat_0', 'v_cat_1', 'v_cat_2', 'v_cat_3'], axis=1)\n",
    "\n",
    "# Use impute function to fill the missing values (NaN)\n",
    "# Missing value is filled with mean of the column data\n",
    "df_impute = df_prep.copy()\n",
    "impute = Imputer(missing_values=\"NaN\", strategy='mean', axis=0)\n",
    "\n",
    "# Fit the dataframe into imputer\n",
    "impute = impute.fit(df_prep)\n",
    "# Fit the new values into df and transformed\n",
    "df_prep = impute.transform(df_impute)\n",
    "\n",
    "# Convert to dataframe and add columns\n",
    "df = pd.DataFrame(df_prep)\n",
    "df.columns = df_impute.columns \n",
    "#df\n",
    "\n",
    "# Build features and target dataframe\n",
    "features = df.drop([\"target\"], axis=1)\n",
    "target = pd.DataFrame(df, columns=[\"target\"])\n",
    "\n",
    "##############################\n",
    "# Config for feature selection\n",
    "##############################\n",
    "KEEP_FEATURES = 10\n",
    "\n",
    "##############################\n",
    "# Config for CV\n",
    "##############################\n",
    "cv_count = 10"
   ]
  },
  {
   "cell_type": "markdown",
   "metadata": {},
   "source": [
    "## Feature Selection\n",
    "- Filter Method (We would use Chi-square which take categorical features and output as categorical features.)\n",
    "  - Chi-square\n",
    "  - Fishre score\n",
    "  - Person correlation\n",
    "   \n",
    " \n",
    "- Wrapper Method\n",
    "  - forward selection: start with no feature, then adding new features until no perfromance improvement after adding new features.\n",
    "  - backward elimination: feed all the possible features to the model at first and iteratively remove the worst performing features one by one till no significant improvement on performance\n",
    "  - recursive feature elimination: very greedy algo to find the most optimal features. It recursively removes attributes and builds a model on those attributes that remain.\n",
    "  \n",
    "    \n",
    "- Embedded Method\n",
    "  - Decision tree\n",
    "  - L1(Lasso)\n",
    "  \n",
    "  \n",
    "Sklearn offers 5 feature selection approaches:\n",
    "  - remove feature with low variance\n",
    "  - univariate feature selection, we use selectKBest\n",
    "  - recursive feature selection, used in our discussion.\n",
    "  - selectFromModel, e.g., L1/extraTree\n",
    "  - pipeline"
   ]
  },
  {
   "cell_type": "markdown",
   "metadata": {},
   "source": [
    "### Feature Importance: Decision Tree "
   ]
  },
  {
   "cell_type": "code",
   "execution_count": 8,
   "metadata": {},
   "outputs": [
    {
     "name": "stdout",
     "output_type": "stream",
     "text": [
      "cross validation score:  [0.34140219 0.14198358 0.27073019 0.24035186 0.23969968 0.26460871\n",
      " 0.36476722 0.15837019 0.28171736 0.17283673]\n",
      "Accuracy: 0.25(+/- 0.14)\n",
      "           Importance\n",
      "v_cont_55    0.426876\n",
      "v_cont_49    0.078372\n",
      "v_cont_48    0.056748\n",
      "v_cont_8     0.032008\n",
      "v_cont_95    0.021516\n",
      "v_cont_54    0.020427\n",
      "v_cont_97    0.015766\n",
      "v_cont_44    0.012681\n",
      "v_cont_20    0.012391\n",
      "v_cont_43    0.010254\n"
     ]
    },
    {
     "data": {
      "text/plain": [
       "<Figure size 432x288 with 0 Axes>"
      ]
     },
     "metadata": {},
     "output_type": "display_data"
    },
    {
     "data": {
      "image/png": "[encoded data removed]",
      "text/plain": [
       "<Figure size 432x288 with 1 Axes>"
      ]
     },
     "metadata": {
      "needs_background": "light"
     },
     "output_type": "display_data"
    }
   ],
   "source": [
    "DT = tree.DecisionTreeRegressor()\n",
    "DT = DT.fit(features, target)\n",
    "\n",
    "DT_predict = DT.predict(features)\n",
    "scores = cross_val_score(DT, features, target, cv=cv_count)\n",
    "print(\"cross validation score: \", scores)\n",
    "print(\"Accuracy: %0.2f(+/- %0.2f)\"%(scores.mean(), scores.std()*2))\n",
    "\n",
    "#features_new = zip(features.columns, (SelectKBest(f_regression, k=5).fit_transform(features, target)))\n",
    "importantFeatures = sorted(zip(features.columns, DT.feature_importances_), key=lambda x: x[1], reverse=True)\n",
    "\n",
    "# fit, we can choose f_regression OR mutual_info_regression, we can test both and see the result\n",
    "importantFeatures[:KEEP_FEATURES]\n",
    "df_DT=pd.DataFrame(DT.feature_importances_, columns = [\"Importance\"], index = features.columns).sort_values(['Importance'], ascending = False)[:KEEP_FEATURES]\n",
    "print(df_DT)\n",
    "plt.figure()\n",
    "df_DT.plot.bar()\n",
    "plt.xlabel('Top '+str(KEEP_FEATURES)+' Predictive Features')\n",
    "plt.ylabel('Feature Coefficients')\n",
    "plt.show()\n",
    "\n",
    "#            Importance\n",
    "# v_cont_55    0.423990\n",
    "# v_cont_49    0.077799\n",
    "# v_cont_48    0.056808\n",
    "# v_cont_8     0.031864\n",
    "# v_cont_95    0.021492\n",
    "# v_cont_54    0.020552\n",
    "# v_cont_97    0.013739\n",
    "# v_cont_20    0.012123\n",
    "# v_cont_45    0.010159\n",
    "# v_cont_53    0.009352"
   ]
  },
  {
   "cell_type": "markdown",
   "metadata": {},
   "source": [
    "### Feature Selection: Random Forest"
   ]
  },
  {
   "cell_type": "code",
   "execution_count": 9,
   "metadata": {},
   "outputs": [
    {
     "name": "stdout",
     "output_type": "stream",
     "text": [
      "cross validation score:  [0.47337836 0.50818785 0.51256966 0.59539048 0.62643043 0.63831034\n",
      " 0.56894194 0.57246909 0.57869827 0.55105908]\n",
      "Accuracy: 0.56(+/- 0.10)\n",
      "            Importance\n",
      "v_cont_55     0.683332\n",
      "v_cont_49     0.238437\n",
      "v_cont_48     0.054646\n",
      "v_cont_8      0.012732\n",
      "v_cont_54     0.007896\n",
      "v_cont_79     0.001070\n",
      "v_cont_106    0.001061\n",
      "v_cont_111    0.000826\n",
      "v_cont_5      0.000000\n",
      "v_cont_86     0.000000\n"
     ]
    }
   ],
   "source": [
    "regr = RandomForestRegressor(max_depth=2, random_state=0, n_estimators=100)\n",
    "regr = regr.fit(features, target)\n",
    "\n",
    "regr_predict = regr.predict(features)\n",
    "scores = cross_val_score(regr, features, target, cv=cv_count)\n",
    "print(\"cross validation score: \", scores)\n",
    "print(\"Accuracy: %0.2f(+/- %0.2f)\"%(scores.mean(), scores.std()*2))\n",
    "\n",
    "#features_new = zip(features.columns, (SelectKBest(f_regression, k=5).fit_transform(features, target)))\n",
    "importantFeatures = sorted(zip(features.columns, regr.feature_importances_), key=lambda x: x[1], reverse=True)\n",
    "\n",
    "# fit, we can choose f_regression OR mutual_info_regression, we can test both and see the result\n",
    "importantFeatures[:KEEP_FEATURES]\n",
    "df_randomforest=pd.DataFrame(regr.feature_importances_, columns = [\"Importance\"], index = features.columns).sort_values(['Importance'], ascending = False)[:KEEP_FEATURES]\n",
    "print(df_randomforest)\n",
    "# plt.figure()\n",
    "# df_DT.plot.bar()\n",
    "# plt.xlabel('Top '+str(KEEP_FEATURES)+' Predictive Features')\n",
    "# plt.ylabel('Feature Coefficients')\n",
    "# plt.show()\n",
    "\n",
    "# cross validation score:  [0.47337836 0.50818785 0.51256966 0.59539048 0.62643043 0.63831034\n",
    "#  0.56894194 0.57246909 0.57869827 0.55105908]\n",
    "# Accuracy: 0.56(+/- 0.10)\n",
    "#             Importance\n",
    "# v_cont_55     0.683332\n",
    "# v_cont_49     0.238437\n",
    "# v_cont_48     0.054646\n",
    "# v_cont_8      0.012732\n",
    "# v_cont_54     0.007896\n",
    "# v_cont_79     0.001070\n",
    "# v_cont_106    0.001061\n",
    "# v_cont_111    0.000826\n",
    "# v_cont_5      0.000000\n",
    "# v_cont_86     0.000000"
   ]
  },
  {
   "cell_type": "markdown",
   "metadata": {},
   "source": [
    "### Feature Selection: SelectKBest"
   ]
  },
  {
   "cell_type": "code",
   "execution_count": 10,
   "metadata": {},
   "outputs": [
    {
     "data": {
      "text/plain": [
       "<Figure size 432x288 with 0 Axes>"
      ]
     },
     "metadata": {},
     "output_type": "display_data"
    },
    {
     "data": {
      "image/png": "[encoded data removed]",
      "text/plain": [
       "<Figure size 432x288 with 1 Axes>"
      ]
     },
     "metadata": {
      "needs_background": "light"
     },
     "output_type": "display_data"
    }
   ],
   "source": [
    "# # fit, we can choose f_regression OR mutual_info_regression, we can test both and see the result\n",
    "importantFeatures = SelectKBest(f_regression, k=KEEP_FEATURES)\n",
    "importantFeatures.fit(features,target)\n",
    "\n",
    "X_new = importantFeatures.transform(features)\n",
    "#print(importantFeatures.get_support(indices=True))\n",
    "\n",
    "df_SB=pd.DataFrame(dict(feature_names= features.columns , scores = importantFeatures.scores_))\\\n",
    "    .sort_values('scores',ascending = False)[:KEEP_FEATURES]\n",
    "plt.figure()\n",
    "df_SB.plot.bar()\n",
    "plt.xlabel('Top '+str(KEEP_FEATURES)+' Predictive Features')\n",
    "plt.ylabel('Feature Coefficients')\n",
    "plt.show()\n",
    "\n",
    "# \tfeature_names\tscores\n",
    "# 44\tv_cont_49\t2388.618688\n",
    "# 50\tv_cont_55\t2381.983200\n",
    "# 43\tv_cont_48\t1987.057310\n",
    "# 3\tv_cont_8\t1758.772273\n",
    "# 45\tv_cont_50\t1588.379860\n",
    "# 46\tv_cont_51\t1550.531636\n",
    "# 2\tv_cont_7\t1319.686433\n",
    "# 15\tv_cont_20\t990.700975\n",
    "# 17\tv_cont_22\t982.200468\n",
    "# 40\tv_cont_45\t891.494025"
   ]
  },
  {
   "cell_type": "markdown",
   "metadata": {},
   "source": [
    "### Feature Selection: Recursive Feature Elimination (RFE)\n"
   ]
  },
  {
   "cell_type": "code",
   "execution_count": 11,
   "metadata": {},
   "outputs": [
    {
     "name": "stdout",
     "output_type": "stream",
     "text": [
      "[('v_cont_49', 1), ('v_cont_55', 1), ('v_cont_56', 1), ('v_cont_73', 1), ('v_cont_76', 1), ('v_cont_84', 1), ('v_cont_85', 1), ('v_cont_87', 1), ('v_cont_90', 1), ('v_cont_95', 1)]\n",
      "CPU times: user 40.3 s, sys: 137 ms, total: 40.4 s\n",
      "Wall time: 23.2 s\n"
     ]
    }
   ],
   "source": [
    "%%time\n",
    "# create a base classifier used to evaluate a subset of attributes\n",
    "estimator = SVR(kernel='linear')\n",
    "# create the RFE model and select X attributes, X=KEEP_FATURES\n",
    "selector = RFE(estimator, KEEP_FEATURES, step=1)\n",
    "\n",
    "# Without specifing the number of features, RFECV finds the optimal \n",
    "# number of features\n",
    "#selector = RFECV(estimator, step=1, cv=5)\n",
    "\n",
    "# Fit the model\n",
    "selector = selector.fit(features, target)\n",
    "\n",
    "# summarize the selection of the attributes\n",
    "#print(selector.support_)\n",
    "#print(selector.ranking_)\n",
    "rfe_features = sorted(zip(features.columns, selector.ranking_), key=lambda x: x[1], reverse=False)[:KEEP_FEATURES]\n",
    "print(rfe_features)"
   ]
  },
  {
   "cell_type": "markdown",
   "metadata": {},
   "source": [
    "## Summary:\n",
    "#### Most important features by different methods\n",
    " - selectKBest: \n",
    "49,55,48,8,50,51,7,20,22,45\n",
    "\n",
    " - Decision Tree: \n",
    "55,49,48,8,95,54,97,20,45,58\n",
    "\n",
    " - RFE:\n",
    "49,55,56,73,76,84,85,87,90,95\n",
    "\n",
    "We can see that 49/55 ranked highest importance for all the 3 methods, mostly highly correlated with the target.\n",
    "\n",
    "There are other algo for feature selection and will not be discussed here due to limit of length, e.g., L1(Lasso)"
   ]
  },
  {
   "cell_type": "markdown",
   "metadata": {},
   "source": [
    "### Dimensionality Reduction: PCA\n",
    "LDA (\"supervised\"): use information of classes to find new features to maximize its separability\n",
    "PCA (\"unsupervised\"): use variance of each feature to maximize its separability; it actually constructs a new set of features\n",
    "\n",
    "PCA is concerned with covariance of predictor matrix X (input features); in regression, we also need to concern with the covariance of X (features) and y (target). Without further justification that there is no relationship between X and y, we would not use dimensionality reduction here.\n",
    "\n",
    "Othere dimension reduction algo: PCR, PLS"
   ]
  },
  {
   "cell_type": "code",
   "execution_count": 12,
   "metadata": {},
   "outputs": [
    {
     "name": "stdout",
     "output_type": "stream",
     "text": [
      "[0.25854019 0.18166128 0.07971167 0.06863376 0.0447857 ]\n",
      "[46.24373896 38.76324226 25.67733016 23.82636609 19.24680277]\n"
     ]
    }
   ],
   "source": [
    "pca = PCA(n_components=5)\n",
    "pca.fit(features)  \n",
    "print(pca.explained_variance_ratio_)  \n",
    "print(pca.singular_values_)  "
   ]
  },
  {
   "cell_type": "markdown",
   "metadata": {},
   "source": [
    "### Prediction: SVM\n",
    "*NOTE: GridSearchCV can be used to optimize each of the following models, to make it simple and accelerate the training speed for demo purpose, GridSearchCV is not implemented here"
   ]
  },
  {
   "cell_type": "code",
   "execution_count": 13,
   "metadata": {
    "scrolled": false
   },
   "outputs": [
    {
     "name": "stdout",
     "output_type": "stream",
     "text": [
      "SVR params: <bound method BaseEstimator.get_params of SVR(C=1.0, cache_size=200, coef0=0.0, degree=3, epsilon=0.1,\n",
      "    gamma='auto_deprecated', kernel='rbf', max_iter=-1, shrinking=True,\n",
      "    tol=0.001, verbose=False)>\n",
      "cross validation score:  [0.58828743 0.64316111 0.61852241 0.66494663 0.66962952 0.73274886\n",
      " 0.70905316 0.62648612 0.67984645 0.61065049]\n",
      "Accuracy: 0.65(+/- 0.09)\n",
      "Cross-predicted Accuracy: 0.6562279002859388\n"
     ]
    }
   ],
   "source": [
    "# Default SVR is kernel=rbf\n",
    "# <bound method BaseEstimator.get_params of SVR(C=1.0, cache_size=200, coef0=0.0, degree=3, epsilon=0.1,\n",
    "#   gamma='auto_deprecated', kernel='rbf', max_iter=-1, shrinking=True,\n",
    "#   tol=0.001, verbose=False)>\n",
    "svr_base    = svm.SVR()\n",
    "# svr_rbf     = svm.SVR(kernel='rbf', C=100, gamma=0.1, epsilon=.1)\n",
    "# svr_lin     = svm.SVR(kernel='linear', C=100, gamma='auto')\n",
    "# svr_poly    = svm.SVR(kernel='poly', C=100, gamma='auto', degree=3, epsilon=.1, coef0=1)\n",
    "print(\"SVR params:\", svr_base.get_params)\n",
    "\n",
    "regressor = svr_base\n",
    "scores_fullfeature = cross_val_score(regressor, features, target, cv=cv_count)\n",
    "print(\"cross validation score: \", scores_fullfeature)\n",
    "print(\"Accuracy: %0.2f(+/- %0.2f)\"%(scores_fullfeature.mean(), scores_fullfeature.std()*2))\n",
    "\n",
    "# cross validation score:  [0.6105303  0.64428898 0.69607301 0.67623805 0.64421084]\n",
    "# Accuracy: 0.65(+/- 0.06)\n",
    "\n",
    "# ****************************************************************\n",
    "# Make cross-validation predictions\n",
    "# ****************************************************************\n",
    "predictions = cross_val_predict(regressor, features, target, cv=cv_count)\n",
    "# plt.scatter(target, predictions, edgecolors=(0,0,0))\n",
    "# plt.plot([min(target),max(target)], [min(target), max(target)], 'k--', lw=4)\n",
    "# plt.xlabel(\"Measured\")\n",
    "# plt.ylabel(\"Predicted\")\n",
    "# plt.show()\n",
    "\n",
    "accuracy = metrics.r2_score(target, predictions)\n",
    "print(\"Cross-predicted Accuracy:\", accuracy)\n",
    "\n",
    "# cross validation score:  [0.58828743 0.64316111 0.61852241 0.66494663 0.66962952 0.73274886\n",
    "#  0.70905316 0.62648612 0.67984645 0.61065049]\n",
    "# Accuracy: 0.65(+/- 0.09)\n",
    "# Cross-predicted Accuracy: 0.6562279002859388"
   ]
  },
  {
   "cell_type": "markdown",
   "metadata": {},
   "source": [
    "#### Prediction with selected features: SVM"
   ]
  },
  {
   "cell_type": "code",
   "execution_count": 14,
   "metadata": {
    "scrolled": true
   },
   "outputs": [
    {
     "name": "stdout",
     "output_type": "stream",
     "text": [
      "cross validation score:  [0.56415762 0.61959577 0.60232492 0.66025589 0.65215808 0.73276236\n",
      " 0.68662424 0.64208606 0.65136553 0.6285674 ]\n",
      "Accuracy: 0.64(+/- 0.09)\n",
      "Cross-predicted Accuracy: 0.6447088310779898\n"
     ]
    }
   ],
   "source": [
    "features_rfe    = features[['v_cont_49','v_cont_55','v_cont_56', 'v_cont_73', 'v_cont_76','v_cont_84','v_cont_85','v_cont_87','v_cont_90','v_cont_95']]\n",
    "features_sb     = features[['v_cont_49','v_cont_55','v_cont_48','v_cont_8','v_cont_50','v_cont_51','v_cont_7','v_cont_20','v_cont_22','v_cont_45']]\n",
    "features_dt     = features[['v_cont_55', 'v_cont_49', 'v_cont_48', 'v_cont_8', 'v_cont_95', 'v_cont_54', 'v_cont_97', 'v_cont_20', 'v_cont_45', 'v_cont_58']]\n",
    "features_forest = features[['v_cont_55', 'v_cont_49', 'v_cont_48', 'v_cont_8','v_cont_54','v_cont_79','v_cont_106','v_cont_111']]\n",
    "target_new = target\n",
    "\n",
    "regressor = svr_base\n",
    "\n",
    "feature_select = features_rfe\n",
    "scores_selectfeature = cross_val_score(regressor, feature_select, target, cv=cv_count)\n",
    "print(\"cross validation score: \", scores_selectfeature)\n",
    "print(\"Accuracy: %0.2f(+/- %0.2f)\"%(scores_selectfeature.mean(), scores_selectfeature.std()*2))\n",
    "\n",
    "predictions = cross_val_predict(regressor, feature_select, target, cv=cv_count)\n",
    "accuracy = metrics.r2_score(target, predictions)\n",
    "print(\"Cross-predicted Accuracy:\", accuracy)\n",
    "\n",
    "# cross validation score:  [0.58642208 0.62923829 0.68646175 0.66830287 0.644102  ]\n",
    "# Accuracy: 0.64(+/- 0.07)\n",
    "# Cross-predicted Accuracy: 0.6437637387149937"
   ]
  },
  {
   "cell_type": "markdown",
   "metadata": {},
   "source": [
    "#### Conclusion: accuracy with 10 selected features is close to the full feature set"
   ]
  },
  {
   "cell_type": "markdown",
   "metadata": {},
   "source": [
    "### Decision Tree"
   ]
  },
  {
   "cell_type": "code",
   "execution_count": 35,
   "metadata": {},
   "outputs": [
    {
     "name": "stdout",
     "output_type": "stream",
     "text": [
      "cross validation score:  [0.29986386 0.19442202 0.31993869 0.13754559 0.18729624 0.32149384\n",
      " 0.42597304 0.02738622 0.25914631 0.22046658]\n",
      "Accuracy: 0.24(+/- 0.21)\n",
      "Cross-predicted Accuracy: 0.22472144866052746\n"
     ]
    }
   ],
   "source": [
    "regressor = tree.DecisionTreeRegressor()\n",
    "#clf = clf.fit(features, target) # regression without CV\n",
    "scores_fullfeature = cross_val_score(regressor, features, target, cv=cv_count)\n",
    "print(\"cross validation score: \", scores_fullfeature)\n",
    "print(\"Accuracy: %0.2f(+/- %0.2f)\"%(scores_fullfeature.mean(), scores_fullfeature.std()*2))\n",
    "\n",
    "predictions = cross_val_predict(regressor, features, target, cv=cv_count)\n",
    "\n",
    "accuracy = metrics.r2_score(target, predictions)\n",
    "print(\"Cross-predicted Accuracy:\", accuracy)\n",
    "\n",
    "# cross validation score:  [0.10245168 0.31361058 0.34538246 0.27211849 0.27847284]\n",
    "# Accuracy: 0.26(+/- 0.17)\n",
    "# Cross-predicted Accuracy: 0.26242482154656266"
   ]
  },
  {
   "cell_type": "markdown",
   "metadata": {},
   "source": [
    "#### Prediction with selected features: Decision Tree"
   ]
  },
  {
   "cell_type": "code",
   "execution_count": 36,
   "metadata": {},
   "outputs": [
    {
     "name": "stdout",
     "output_type": "stream",
     "text": [
      "cross validation score:  [0.31115994 0.16277244 0.39217861 0.18959885 0.30293056 0.3851727\n",
      " 0.28496574 0.16650555 0.31445684 0.11543072]\n",
      "Accuracy: 0.26(+/- 0.18)\n",
      "Cross-predicted Accuracy: 0.2773974669658671\n"
     ]
    }
   ],
   "source": [
    "feature_select = features_dt\n",
    "scores_selectfeature = cross_val_score(regressor, feature_select, target, cv=cv_count)\n",
    "print(\"cross validation score: \", scores_selectfeature)\n",
    "print(\"Accuracy: %0.2f(+/- %0.2f)\"%(scores_selectfeature.mean(), scores_selectfeature.std()*2))\n",
    "\n",
    "predictions = cross_val_predict(regressor, feature_select, target, cv=cv_count)\n",
    "accuracy = metrics.r2_score(target, predictions)\n",
    "print(\"Cross-predicted Accuracy:\", accuracy)"
   ]
  },
  {
   "cell_type": "markdown",
   "metadata": {},
   "source": [
    "### KNN"
   ]
  },
  {
   "cell_type": "code",
   "execution_count": 37,
   "metadata": {},
   "outputs": [
    {
     "name": "stdout",
     "output_type": "stream",
     "text": [
      "cross validation score:  [0.57904108 0.54061208 0.57572815 0.58501913 0.57293865 0.69060412\n",
      " 0.63663305 0.62292176 0.62326357 0.6076755 ]\n",
      "Accuracy: 0.60(+/- 0.08)\n",
      "Cross-predicted Accuracy: 0.6033362252817767\n"
     ]
    }
   ],
   "source": [
    "regressor = KNeighborsRegressor()\n",
    "scores_fullfeature = cross_val_score(regressor, features, target, cv=cv_count)\n",
    "print(\"cross validation score: \", scores_fullfeature)\n",
    "print(\"Accuracy: %0.2f(+/- %0.2f)\"%(scores_fullfeature.mean(), scores_fullfeature.std()*2))\n",
    "\n",
    "predictions = cross_val_predict(regressor, features, target, cv=cv_count)\n",
    "\n",
    "accuracy = metrics.r2_score(target, predictions)\n",
    "print(\"Cross-predicted Accuracy:\", accuracy)\n"
   ]
  },
  {
   "cell_type": "markdown",
   "metadata": {},
   "source": [
    "#### Prediction with selected features: KNN"
   ]
  },
  {
   "cell_type": "code",
   "execution_count": 38,
   "metadata": {},
   "outputs": [
    {
     "name": "stdout",
     "output_type": "stream",
     "text": [
      "cross validation score:  [0.54280475 0.56207823 0.55297741 0.56700706 0.58763371 0.58393431\n",
      " 0.63739024 0.59650249 0.63057835 0.51374045]\n",
      "Accuracy: 0.58(+/- 0.07)\n",
      "Cross-predicted Accuracy: 0.5787266609784437\n"
     ]
    }
   ],
   "source": [
    "feature_select = features_rfe\n",
    "scores_selectfeature = cross_val_score(regressor, feature_select, target, cv=cv_count)\n",
    "print(\"cross validation score: \", scores_selectfeature)\n",
    "print(\"Accuracy: %0.2f(+/- %0.2f)\"%(scores_selectfeature.mean(), scores_selectfeature.std()*2))\n",
    "\n",
    "predictions = cross_val_predict(regressor, feature_select, target, cv=cv_count)\n",
    "accuracy = metrics.r2_score(target, predictions)\n",
    "print(\"Cross-predicted Accuracy:\", accuracy)"
   ]
  },
  {
   "cell_type": "markdown",
   "metadata": {},
   "source": [
    "### Random Forest"
   ]
  },
  {
   "cell_type": "code",
   "execution_count": 39,
   "metadata": {
    "scrolled": true
   },
   "outputs": [
    {
     "name": "stdout",
     "output_type": "stream",
     "text": [
      "cross validation score:  [0.47337836 0.50818785 0.51256966 0.59539048 0.62643043 0.63831034\n",
      " 0.56894194 0.57246909 0.57869827 0.55105908]\n",
      "Accuracy: 0.56(+/- 0.10)\n",
      "Cross-predicted Accuracy: 0.5634702626263526\n"
     ]
    }
   ],
   "source": [
    "# depth of tree 2, number of trees 100\n",
    "regressor = RandomForestRegressor(max_depth=2, random_state=0, n_estimators=100)\n",
    "scores_fullfeature = cross_val_score(regressor, features, target, cv=cv_count)\n",
    "print(\"cross validation score: \", scores_fullfeature)\n",
    "print(\"Accuracy: %0.2f(+/- %0.2f)\"%(scores_fullfeature.mean(), scores_fullfeature.std()*2))\n",
    "\n",
    "predictions = cross_val_predict(regressor, features, target, cv=cv_count)\n",
    "\n",
    "accuracy = metrics.r2_score(target, predictions)\n",
    "print(\"Cross-predicted Accuracy:\", accuracy)\n",
    "\n",
    "# cross validation score:  [0.47337836 0.50818785 0.51256966 0.59539048 0.62643043 0.63831034\n",
    "#  0.56894194 0.57246909 0.57869827 0.55105908]\n",
    "# Accuracy: 0.56(+/- 0.10)"
   ]
  },
  {
   "cell_type": "markdown",
   "metadata": {},
   "source": [
    "#### Prediction with selected features: Random Forest"
   ]
  },
  {
   "cell_type": "code",
   "execution_count": 40,
   "metadata": {},
   "outputs": [
    {
     "name": "stdout",
     "output_type": "stream",
     "text": [
      "cross validation score:  [0.47252672 0.50621909 0.51204061 0.59425018 0.62676711 0.64016426\n",
      " 0.56973421 0.57526745 0.57818301 0.5503968 ]\n",
      "Accuracy: 0.56(+/- 0.10)\n",
      "Cross-predicted Accuracy: 0.5634339662286355\n"
     ]
    }
   ],
   "source": [
    "feature_select = features_forest\n",
    "scores_selectfeature = cross_val_score(regressor, feature_select, target, cv=cv_count)\n",
    "print(\"cross validation score: \", scores_selectfeature)\n",
    "print(\"Accuracy: %0.2f(+/- %0.2f)\"%(scores_selectfeature.mean(), scores_selectfeature.std()*2))\n",
    "\n",
    "predictions = cross_val_predict(regressor, feature_select, target, cv=cv_count)\n",
    "accuracy = metrics.r2_score(target, predictions)\n",
    "print(\"Cross-predicted Accuracy:\", accuracy)\n",
    "\n",
    "# cross validation score:  [0.54282045 0.57425864 0.57837188 0.65034893 0.65296021 0.70227148\n",
    "#  0.63478688 0.61237552 0.62364641 0.55529938]\n",
    "# Accuracy: 0.61(+/- 0.09)\n",
    "# Cross-predicted Accuracy: 0.6149497533541618"
   ]
  },
  {
   "cell_type": "markdown",
   "metadata": {},
   "source": [
    "### Voting Regressor"
   ]
  },
  {
   "cell_type": "code",
   "execution_count": 22,
   "metadata": {},
   "outputs": [
    {
     "data": {
      "image/png": "[encoded data removed]",
      "text/plain": [
       "<Figure size 432x288 with 1 Axes>"
      ]
     },
     "metadata": {
      "needs_background": "light"
     },
     "output_type": "display_data"
    }
   ],
   "source": [
    "# Training classifier\n",
    "reg1 = GradientBoostingRegressor(random_state=1, n_estimators=10)\n",
    "reg2 = RandomForestRegressor(random_state=1, n_estimators=10)\n",
    "reg3 = LinearRegression()\n",
    "ereg = VotingRegressor(estimators=[('gb', reg1), ('rf', reg2), ('lr', reg3)])\n",
    "reg1.fit(features, target)\n",
    "reg2.fit(features, target)\n",
    "reg3.fit(features, target)\n",
    "ereg.fit(features, target)\n",
    "\n",
    "xt = features[:KEEP_FEATURES]\n",
    "xt1 = xt\n",
    "plt.figure()\n",
    "plt.plot(reg1.predict(xt), 'gd', label='GradientBoostingRegressor')\n",
    "plt.plot(reg2.predict(xt), 'b^', label='RandomForestRegressor')\n",
    "plt.plot(reg3.predict(xt), 'ys', label='LinearRegression')\n",
    "#plt.plot(ereg.predict(xt1.to_numpy()), 'r*', label='VotingRegressor')\n",
    "plt.tick_params(axis='x', which='both', bottom=False, top=False,labelbottom=False)\n",
    "plt.ylabel('predicted')\n",
    "plt.xlabel('training samples')\n",
    "plt.legend(loc=\"best\")\n",
    "plt.title('Comparison of individual predictions with averaged')\n",
    "plt.show()"
   ]
  },
  {
   "cell_type": "code",
   "execution_count": null,
   "metadata": {},
   "outputs": [],
   "source": []
  },
  {
   "cell_type": "markdown",
   "metadata": {},
   "source": [
    "### XGBoost\n",
    "* learning_rate: step size shrinkage used to prevent overfitting. Range is [0,1]\n",
    "* max_depth: determines how deeply each tree is allowed to grow during any boosting round.\n",
    "* subsample: percentage of samples used per tree. Low value can lead to underfitting.\n",
    "* colsample_bytree: percentage of features used per tree. High value can lead to overfitting.\n",
    "* n_estimators: number of trees you want to build.\n",
    "* objective: determines the loss function to be used like reg:linear for regression problems, reg:logistic for classification problems with only decision, binary:logistic for classification problems with probability.\n",
    "\n",
    "* gamma: controls whether a given node will split based on the expected reduction in loss after the split. A higher value leads to fewer splits. Supported only for tree-based learners.\n",
    "* alpha: L1 regularization on leaf weights. A large value leads to more regularization.\n",
    "* lambda: L2 regularization on leaf weights and is smoother than L1 regularization.\n"
   ]
  },
  {
   "cell_type": "code",
   "execution_count": 65,
   "metadata": {},
   "outputs": [
    {
     "name": "stdout",
     "output_type": "stream",
     "text": [
      "RMSE: 0.183738\n",
      "49    0.142887\n",
      "Name: test-rmse-mean, dtype: float64\n"
     ]
    },
    {
     "data": {
      "image/png": "[encoded data removed]",
      "text/plain": [
       "<Figure size 360x360 with 1 Axes>"
      ]
     },
     "metadata": {
      "needs_background": "light"
     },
     "output_type": "display_data"
    },
    {
     "data": {
      "image/png": "[encoded data removed]",
      "text/plain": [
       "<Figure size 3600x1440 with 1 Axes>"
      ]
     },
     "metadata": {
      "needs_background": "light"
     },
     "output_type": "display_data"
    },
    {
     "data": {
      "image/png": "[encoded data removed]",
      "text/plain": [
       "<Figure size 360x360 with 1 Axes>"
      ]
     },
     "metadata": {
      "needs_background": "light"
     },
     "output_type": "display_data"
    },
    {
     "name": "stdout",
     "output_type": "stream",
     "text": [
      "           Importance\n",
      "v_cont_55    0.159581\n",
      "v_cont_8     0.126998\n",
      "v_cont_54    0.093261\n",
      "v_cont_49    0.064211\n",
      "v_cont_48    0.040866\n",
      "v_cont_7     0.034185\n",
      "v_cont_50    0.021588\n",
      "v_cont_62    0.016956\n",
      "v_cont_99    0.015684\n",
      "v_cont_34    0.014484\n"
     ]
    }
   ],
   "source": [
    "# Convert dataset to dmatrix, which xgboost supports for high performance\n",
    "data_dmatrix = xgb.DMatrix(data=features,label=target)\n",
    "\n",
    "X_train, X_test, y_train, y_test = train_test_split(features, target, test_size=0.2, random_state=123)\n",
    "\n",
    "xg_reg = xgb.XGBRegressor(objective ='reg:squarederror', colsample_bytree = 0.3, learning_rate = 0.1,\n",
    "                max_depth = 5, alpha = 10, n_estimators = 10)\n",
    "\n",
    "xg_reg.fit(X_train,y_train)\n",
    "\n",
    "preds = xg_reg.predict(X_test)\n",
    "\n",
    "rmse = np.sqrt(mean_squared_error(y_test, preds))\n",
    "print(\"RMSE: %f\" % (rmse))\n",
    "\n",
    "params = {\"objective\":\"reg:squarederror\",'colsample_bytree': 0.3,'learning_rate': 0.1,\n",
    "                'max_depth': 5, 'alpha': 10}\n",
    "\n",
    "cv_results = xgb.cv(dtrain=data_dmatrix, params=params, nfold=3,\n",
    "                    num_boost_round=50,early_stopping_rounds=10,metrics=\"rmse\", as_pandas=True, seed=123)\n",
    "\n",
    "\n",
    "cv_results.head()\n",
    "print((cv_results[\"test-rmse-mean\"]).tail(1))\n",
    "\n",
    "xgb.plot_tree(xg_reg,num_trees=0)\n",
    "plt.rcParams['figure.figsize'] = [50, 20]\n",
    "plt.show()\n",
    "\n",
    "xgb.plot_importance(xg_reg)\n",
    "plt.rcParams['figure.figsize'] = [5, 5]\n",
    "plt.show()\n",
    "\n",
    "#print(xg_reg.feature_importances_)\n",
    "plt.bar(range(len(xg_reg.feature_importances_)), xg_reg.feature_importances_)\n",
    "plt.show()\n",
    "\n",
    "# Feature Selection\n",
    "#importantFeatures[:KEEP_FEATURES]\n",
    "df_xgb=pd.DataFrame(xg_reg.feature_importances_, columns = [\"Importance\"], index = features.columns).sort_values(['Importance'], ascending = False)[:KEEP_FEATURES]\n",
    "print(df_xgb)"
   ]
  },
  {
   "cell_type": "code",
   "execution_count": 52,
   "metadata": {},
   "outputs": [
    {
     "name": "stdout",
     "output_type": "stream",
     "text": [
      "XGBRegressor(alpha=10, base_score=0.5, booster='gbtree', colsample_bylevel=1,\n",
      "             colsample_bynode=1, colsample_bytree=0.3, gamma=0,\n",
      "             importance_type='gain', learning_rate=0.1, max_delta_step=0,\n",
      "             max_depth=5, min_child_weight=1, missing=None, n_estimators=10,\n",
      "             n_jobs=1, nthread=None, objective='reg:squarederror',\n",
      "             random_state=0, reg_alpha=0, reg_lambda=1, scale_pos_weight=1,\n",
      "             seed=None, silent=None, subsample=1, verbosity=1)\n"
     ]
    }
   ],
   "source": [
    "print (xg_reg)"
   ]
  },
  {
   "cell_type": "code",
   "execution_count": null,
   "metadata": {},
   "outputs": [],
   "source": [
    "%reset"
   ]
  }
 ],
 "metadata": {
  "kernelspec": {
   "display_name": "Python 3",
   "language": "python",
   "name": "python3"
  },
  "language_info": {
   "codemirror_mode": {
    "name": "ipython",
    "version": 3
   },
   "file_extension": ".py",
   "mimetype": "text/x-python",
   "name": "python",
   "nbconvert_exporter": "python",
   "pygments_lexer": "ipython3",
   "version": "3.7.1"
  }
 },
 "nbformat": 4,
 "nbformat_minor": 2
}
