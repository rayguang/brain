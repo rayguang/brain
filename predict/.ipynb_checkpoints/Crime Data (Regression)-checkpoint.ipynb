{
 "cells": [
  {
   "cell_type": "markdown",
   "metadata": {},
   "source": [
    "### Dataset: training, validation and test \n"
   ]
  },
  {
   "cell_type": "code",
   "execution_count": 32,
   "metadata": {},
   "outputs": [],
   "source": [
    "import pandas as pd\n",
    "import numpy as np\n",
    "\n",
    "from sklearn import svm\n",
    "from sklearn.svm import SVR\n",
    "from sklearn import tree, metrics\n",
    "from sklearn.tree import DecisionTreeClassifier\n",
    "from sklearn import model_selection\n",
    "from sklearn.model_selection import train_test_split\n",
    "from sklearn.model_selection import cross_val_score, cross_val_predict\n",
    "from sklearn.feature_selection import f_regression, mutual_info_regression\n",
    "from sklearn.linear_model import LogisticRegression\n",
    "from sklearn.neighbors import KNeighborsRegressor\n",
    "from sklearn.ensemble import RandomForestRegressor\n",
    "from sklearn.ensemble import GradientBoostingRegressor\n",
    "from sklearn.linear_model import LinearRegression\n",
    "from sklearn.ensemble import VotingRegressor\n",
    "\n",
    "import xgboost as xgb\n",
    "from sklearn.metrics import mean_squared_error\n",
    "from sklearn.preprocessing import Imputer\n",
    "from sklearn.preprocessing import LabelEncoder\n",
    "\n",
    "from sklearn.feature_selection import SelectKBest, RFE\n",
    "from sklearn.feature_selection import RFECV\n",
    "from sklearn.decomposition import PCA\n",
    "\n",
    "import matplotlib.pyplot as plt\n",
    "\n",
    "import time\n",
    "\n",
    "import warnings\n",
    "warnings.filterwarnings(\"ignore\")"
   ]
  },
  {
   "cell_type": "markdown",
   "metadata": {},
   "source": [
    "### Pre-process dataset\n",
    "crime_prep.csv contains many missing data in column 2 (county) and 3 (community). \n",
    "For missing data:\n",
    "1) if it is missing at random, we can drop the data;\n",
    "2) if it is missing not at random (e.g., depend on other variables), we can use imputation to reduce bias.\n",
    "\n",
    "k-fold CV (cross-validation) is used to reduce the risk of overfitting;\n",
    "imputation is used to fill missing data (using mean value)"
   ]
  },
  {
   "cell_type": "code",
   "execution_count": 4,
   "metadata": {
    "scrolled": true
   },
   "outputs": [
    {
     "name": "stdout",
     "output_type": "stream",
     "text": [
      "--- 0.06269383430480957 seconds ---\n"
     ]
    }
   ],
   "source": [
    "start_time = time.time()\n",
    "df_prep = pd.read_csv('crime_prep.csv')\n",
    "print(\"--- %s seconds ---\" % (time.time() - start_time))\n",
    "#df_prep.shape\n",
    "\n",
    "# Remove non predictive attributes, such as state, county, community, communitynames, fold\n",
    "df_prep = df_prep.drop(['v_cont_0', 'v_cat_0', 'v_cat_1', 'v_cat_2', 'v_cat_3'], axis=1)\n",
    "\n",
    "# Use impute function to fill the missing values (NaN)\n",
    "# Missing value is filled with mean of the column data\n",
    "df_impute = df_prep.copy()\n",
    "impute = Imputer(missing_values=\"NaN\", strategy='mean', axis=0)\n",
    "\n",
    "# Fit the dataframe into imputer\n",
    "impute = impute.fit(df_prep)\n",
    "# Fit the new values into df and transformed\n",
    "df_prep = impute.transform(df_impute)\n",
    "\n",
    "# Convert to dataframe and add columns\n",
    "df = pd.DataFrame(df_prep)\n",
    "df.columns = df_impute.columns \n",
    "#df\n",
    "\n",
    "# Build features and target dataframe\n",
    "features = df.drop([\"target\"], axis=1)\n",
    "target = pd.DataFrame(df, columns=[\"target\"])\n",
    "\n",
    "##############################\n",
    "# Config for feature selection\n",
    "##############################\n",
    "KEEP_FEATURES = 10\n",
    "\n",
    "##############################\n",
    "# Config for CV\n",
    "##############################\n",
    "cv_count = 10"
   ]
  },
  {
   "cell_type": "markdown",
   "metadata": {},
   "source": [
    "## Feature Selection\n",
    "1. Filter Method, e.g., pearson correlation\n",
    "2. Wrapper Method\n",
    "    1) backward elimination: feed all the possible features to the model at first and iteratively remove the worst performing features one by one till the overall performance of the model comes in acceptable range.\n",
    "    2) recursive feature elimination: recursively removing attributes and building a model on those attributes that remain.\n",
    "3. Embedded Method"
   ]
  },
  {
   "cell_type": "markdown",
   "metadata": {},
   "source": [
    "### Feature Importance: Decision Tree "
   ]
  },
  {
   "cell_type": "code",
   "execution_count": 66,
   "metadata": {},
   "outputs": [
    {
     "name": "stdout",
     "output_type": "stream",
     "text": [
      "cross validation score:  [0.28796166 0.22461444 0.31569316 0.22610981 0.25105404 0.27017045\n",
      " 0.34814943 0.1689841  0.30606431 0.25432409]\n",
      "Accuracy: 0.27(+/- 0.10)\n",
      "           Importance\n",
      "v_cont_55    0.426132\n",
      "v_cont_49    0.077768\n",
      "v_cont_48    0.057545\n",
      "v_cont_8     0.031945\n",
      "v_cont_95    0.021462\n",
      "v_cont_54    0.020235\n",
      "v_cont_97    0.013746\n",
      "v_cont_20    0.012954\n",
      "v_cont_45    0.010059\n",
      "v_cont_58    0.009453\n"
     ]
    }
   ],
   "source": [
    "DT = tree.DecisionTreeRegressor()\n",
    "DT = DT.fit(features, target)\n",
    "\n",
    "DT_predict = DT.predict(features)\n",
    "scores = cross_val_score(DT, features, target, cv=cv_count)\n",
    "print(\"cross validation score: \", scores)\n",
    "print(\"Accuracy: %0.2f(+/- %0.2f)\"%(scores.mean(), scores.std()*2))\n",
    "\n",
    "#features_new = zip(features.columns, (SelectKBest(f_regression, k=5).fit_transform(features, target)))\n",
    "importantFeatures = sorted(zip(features.columns, DT.feature_importances_), key=lambda x: x[1], reverse=True)\n",
    "\n",
    "# fit, we can choose f_regression OR mutual_info_regression, we can test both and see the result\n",
    "importantFeatures[:KEEP_FEATURES]\n",
    "df_DT=pd.DataFrame(DT.feature_importances_, columns = [\"Importance\"], index = features.columns).sort_values(['Importance'], ascending = False)[:KEEP_FEATURES]\n",
    "print(df_DT)\n",
    "# plt.figure()\n",
    "# df_DT.plot.bar()\n",
    "# plt.xlabel('Top '+str(KEEP_FEATURES)+' Predictive Features')\n",
    "# plt.ylabel('Feature Coefficients')\n",
    "# plt.show()\n",
    "\n",
    "#            Importance\n",
    "# v_cont_55    0.426132\n",
    "# v_cont_49    0.077768\n",
    "# v_cont_48    0.057545\n",
    "# v_cont_8     0.031945\n",
    "# v_cont_95    0.021462\n",
    "# v_cont_54    0.020235\n",
    "# v_cont_97    0.013746\n",
    "# v_cont_20    0.012954\n",
    "# v_cont_45    0.010059\n",
    "# v_cont_58    0.009453"
   ]
  },
  {
   "cell_type": "markdown",
   "metadata": {},
   "source": [
    "### Feature Selection: Random Forest"
   ]
  },
  {
   "cell_type": "code",
   "execution_count": 167,
   "metadata": {},
   "outputs": [
    {
     "name": "stdout",
     "output_type": "stream",
     "text": [
      "cross validation score:  [0.47337836 0.50818785 0.51256966 0.59539048 0.62643043 0.63831034\n",
      " 0.56894194 0.57246909 0.57869827 0.55105908]\n",
      "Accuracy: 0.56(+/- 0.10)\n",
      "            Importance\n",
      "v_cont_55     0.683332\n",
      "v_cont_49     0.238437\n",
      "v_cont_48     0.054646\n",
      "v_cont_8      0.012732\n",
      "v_cont_54     0.007896\n",
      "v_cont_79     0.001070\n",
      "v_cont_106    0.001061\n",
      "v_cont_111    0.000826\n",
      "v_cont_5      0.000000\n",
      "v_cont_86     0.000000\n"
     ]
    }
   ],
   "source": [
    "regr = RandomForestRegressor(max_depth=2, random_state=0, n_estimators=100)\n",
    "regr = regr.fit(features, target)\n",
    "\n",
    "regr_predict = regr.predict(features)\n",
    "scores = cross_val_score(regr, features, target, cv=cv_count)\n",
    "print(\"cross validation score: \", scores)\n",
    "print(\"Accuracy: %0.2f(+/- %0.2f)\"%(scores.mean(), scores.std()*2))\n",
    "\n",
    "#features_new = zip(features.columns, (SelectKBest(f_regression, k=5).fit_transform(features, target)))\n",
    "importantFeatures = sorted(zip(features.columns, regr.feature_importances_), key=lambda x: x[1], reverse=True)\n",
    "\n",
    "# fit, we can choose f_regression OR mutual_info_regression, we can test both and see the result\n",
    "importantFeatures[:KEEP_FEATURES]\n",
    "df_randomforest=pd.DataFrame(regr.feature_importances_, columns = [\"Importance\"], index = features.columns).sort_values(['Importance'], ascending = False)[:KEEP_FEATURES]\n",
    "print(df_randomforest)\n",
    "# plt.figure()\n",
    "# df_DT.plot.bar()\n",
    "# plt.xlabel('Top '+str(KEEP_FEATURES)+' Predictive Features')\n",
    "# plt.ylabel('Feature Coefficients')\n",
    "# plt.show()\n",
    "\n",
    "# cross validation score:  [0.47337836 0.50818785 0.51256966 0.59539048 0.62643043 0.63831034\n",
    "#  0.56894194 0.57246909 0.57869827 0.55105908]\n",
    "# Accuracy: 0.56(+/- 0.10)\n",
    "#             Importance\n",
    "# v_cont_55     0.683332\n",
    "# v_cont_49     0.238437\n",
    "# v_cont_48     0.054646\n",
    "# v_cont_8      0.012732\n",
    "# v_cont_54     0.007896\n",
    "# v_cont_79     0.001070\n",
    "# v_cont_106    0.001061\n",
    "# v_cont_111    0.000826\n",
    "# v_cont_5      0.000000\n",
    "# v_cont_86     0.000000"
   ]
  },
  {
   "cell_type": "markdown",
   "metadata": {},
   "source": [
    "### Feature Selection: SelectKBest"
   ]
  },
  {
   "cell_type": "code",
   "execution_count": 70,
   "metadata": {},
   "outputs": [
    {
     "data": {
      "text/plain": [
       "<Figure size 432x288 with 0 Axes>"
      ]
     },
     "metadata": {},
     "output_type": "display_data"
    },
    {
     "data": {
      "image/png": "[encoded data removed]",
      "text/plain": [
       "<Figure size 432x288 with 1 Axes>"
      ]
     },
     "metadata": {
      "needs_background": "light"
     },
     "output_type": "display_data"
    }
   ],
   "source": [
    "# # fit, we can choose f_regression OR mutual_info_regression, we can test both and see the result\n",
    "importantFeatures = SelectKBest(f_regression, k=KEEP_FEATURES)\n",
    "importantFeatures.fit(features,target)\n",
    "\n",
    "X_new = importantFeatures.transform(features)\n",
    "#print(importantFeatures.get_support(indices=True))\n",
    "\n",
    "df_SB=pd.DataFrame(dict(feature_names= features.columns , scores = importantFeatures.scores_))\\\n",
    "    .sort_values('scores',ascending = False)[:KEEP_FEATURES]\n",
    "plt.figure()\n",
    "df_SB.plot.bar()\n",
    "plt.xlabel('Top '+str(KEEP_FEATURES)+' Predictive Features')\n",
    "plt.ylabel('Feature Coefficients')\n",
    "plt.show()\n",
    "\n",
    "# \tfeature_names\tscores\n",
    "# 44\tv_cont_49\t2388.618688\n",
    "# 50\tv_cont_55\t2381.983200\n",
    "# 43\tv_cont_48\t1987.057310\n",
    "# 3\tv_cont_8\t1758.772273\n",
    "# 45\tv_cont_50\t1588.379860\n",
    "# 46\tv_cont_51\t1550.531636\n",
    "# 2\tv_cont_7\t1319.686433\n",
    "# 15\tv_cont_20\t990.700975\n",
    "# 17\tv_cont_22\t982.200468\n",
    "# 40\tv_cont_45\t891.494025"
   ]
  },
  {
   "cell_type": "markdown",
   "metadata": {},
   "source": [
    "### Feature Selection: Recursive Feature Elimination (RFE)\n"
   ]
  },
  {
   "cell_type": "code",
   "execution_count": 71,
   "metadata": {},
   "outputs": [
    {
     "name": "stdout",
     "output_type": "stream",
     "text": [
      "[False False False False False False False False False False False False\n",
      " False False False False False False False False False False False False\n",
      " False False False False False False False False False False False False\n",
      " False False False False False False False False  True False False False\n",
      " False False  True  True False False False False False False False False\n",
      " False False False False False False False False  True False False  True\n",
      " False False False False False False False  True  True False  True False\n",
      " False  True False False False False  True False False False False False\n",
      " False False False False False False False False False False False False\n",
      " False False False False False False False False False False False False\n",
      " False False]\n",
      "[104  66  22 105  84  96  32  26  57 109  74  76  18   3  70  25  44  97\n",
      "  43  17  72  42  65  79 103  59  64  10  36  45  50  98 111   2  52  60\n",
      "  77  49  15  27  28  48  83  33   1  73  82  41  24   9   1   1  93 106\n",
      "  91  90  92  11  12  30  35   4  54   7   6  34  21  20   1  31  78   1\n",
      "  61  19  69  51 110 113  99   1   1 101   1  23  89   1  37 102  29  38\n",
      "   1   5 108  80  53 107  88  46  56  13  71  86  40  39   8  67  94  47\n",
      "  55  81  16  68  87 100 112  58  62  75  95  85  63  14]\n",
      "[('v_cont_49', 1), ('v_cont_55', 1), ('v_cont_56', 1), ('v_cont_73', 1), ('v_cont_76', 1), ('v_cont_84', 1), ('v_cont_85', 1), ('v_cont_87', 1), ('v_cont_90', 1), ('v_cont_95', 1)]\n"
     ]
    }
   ],
   "source": [
    "# create a base classifier used to evaluate a subset of attributes\n",
    "estimator = SVR(kernel='linear')\n",
    "# create the RFE model and select X attributes, X=KEEP_FATURES\n",
    "selector = RFE(estimator, KEEP_FEATURES, step=1)\n",
    "\n",
    "# Without specifing the number of features, RFECV finds the optimal \n",
    "# number of features\n",
    "#selector = RFECV(estimator, step=1, cv=5)\n",
    "\n",
    "# Fit the model\n",
    "selector = selector.fit(features, target)\n",
    "\n",
    "# summarize the selection of the attributes\n",
    "#print(selector.support_)\n",
    "#print(selector.ranking_)\n",
    "rfe_features = sorted(zip(features.columns, selector.ranking_), key=lambda x: x[1], reverse=False)[:KEEP_FEATURES]\n",
    "print(rfe_features)"
   ]
  },
  {
   "cell_type": "markdown",
   "metadata": {},
   "source": [
    "## Summary:\n",
    "#### Most important features by different methods\n",
    "selectKBest\n",
    "49,55,48,8,50,51,7,20,22,45\n",
    "\n",
    "Decision Tree importance\n",
    "55,49,48,8,95,54,97,20,45,58\n",
    "\n",
    "RFE\n",
    "49,55,56,73,76,84,85,87,90,95\n",
    "\n",
    "We can see that 49/55 ranked highest importance for all the 3 methods, mostly highly correlated with the target."
   ]
  },
  {
   "cell_type": "markdown",
   "metadata": {},
   "source": [
    "### Dimensionality Reduction: PCA\n",
    "LDA (\"supervised\"): use information of classes to find new features to maximize its separability\n",
    "PCA (\"unsupervised\"): use variance of each feature to maximize its separability; it actually constructs a new set of features\n",
    "\n",
    "PCA is concerned with covariance of predictor matrix X (input features); in regression, we also need to concern with the covariance of X (features) and y (target). \n",
    "\n",
    "PCR, PLS"
   ]
  },
  {
   "cell_type": "code",
   "execution_count": 59,
   "metadata": {},
   "outputs": [
    {
     "name": "stdout",
     "output_type": "stream",
     "text": [
      "[0.25854019 0.18166128 0.07971167 0.06863376 0.0447857 ]\n",
      "[46.24373896 38.76324226 25.67733016 23.82636609 19.24680277]\n"
     ]
    }
   ],
   "source": [
    "pca = PCA(n_components=5)\n",
    "pca.fit(features)  \n",
    "print(pca.explained_variance_ratio_)  \n",
    "print(pca.singular_values_)  "
   ]
  },
  {
   "cell_type": "markdown",
   "metadata": {},
   "source": [
    "### Prediction: SVM\n",
    "*NOTE: GridSearchCV can be used to optimize each of the following models, to make it simple and accelerate the training speed for demo purpose, GridSearchCV is not implemented here"
   ]
  },
  {
   "cell_type": "code",
   "execution_count": 123,
   "metadata": {
    "scrolled": false
   },
   "outputs": [
    {
     "name": "stdout",
     "output_type": "stream",
     "text": [
      "SVR params: <bound method BaseEstimator.get_params of SVR(C=1.0, cache_size=200, coef0=0.0, degree=3, epsilon=0.1,\n",
      "  gamma='auto_deprecated', kernel='rbf', max_iter=-1, shrinking=True,\n",
      "  tol=0.001, verbose=False)>\n",
      "cross validation score:  [0.6105303  0.64428898 0.69607301 0.67623805 0.64421084]\n",
      "Accuracy: 0.65(+/- 0.06)\n",
      "Cross-predicted Accuracy: 0.6554434180226716\n"
     ]
    }
   ],
   "source": [
    "# Default SVR is kernel=rbf\n",
    "# <bound method BaseEstimator.get_params of SVR(C=1.0, cache_size=200, coef0=0.0, degree=3, epsilon=0.1,\n",
    "#   gamma='auto_deprecated', kernel='rbf', max_iter=-1, shrinking=True,\n",
    "#   tol=0.001, verbose=False)>\n",
    "svr_base    = svm.SVR()\n",
    "# svr_rbf     = svm.SVR(kernel='rbf', C=100, gamma=0.1, epsilon=.1)\n",
    "# svr_lin     = svm.SVR(kernel='linear', C=100, gamma='auto')\n",
    "# svr_poly    = svm.SVR(kernel='poly', C=100, gamma='auto', degree=3, epsilon=.1, coef0=1)\n",
    "print(\"SVR params:\", svr_base.get_params)\n",
    "\n",
    "regressor = svr_base\n",
    "scores_fullfeature = cross_val_score(regressor, features, target, cv=cv_count)\n",
    "print(\"cross validation score: \", scores_fullfeature)\n",
    "print(\"Accuracy: %0.2f(+/- %0.2f)\"%(scores_fullfeature.mean(), scores_fullfeature.std()*2))\n",
    "\n",
    "# cross validation score:  [0.6105303  0.64428898 0.69607301 0.67623805 0.64421084]\n",
    "# Accuracy: 0.65(+/- 0.06)\n",
    "\n",
    "# ****************************************************************\n",
    "# Make cross-validation predictions\n",
    "# ****************************************************************\n",
    "predictions = cross_val_predict(regressor, features, target, cv=cv_count)\n",
    "# plt.scatter(target, predictions, edgecolors=(0,0,0))\n",
    "# plt.plot([min(target),max(target)], [min(target), max(target)], 'k--', lw=4)\n",
    "# plt.xlabel(\"Measured\")\n",
    "# plt.ylabel(\"Predicted\")\n",
    "# plt.show()\n",
    "\n",
    "accuracy = metrics.r2_score(target, predictions)\n",
    "print(\"Cross-predicted Accuracy:\", accuracy)\n",
    "\n",
    "# cross validation score:  [0.6105303  0.64428898 0.69607301 0.67623805 0.64421084]\n",
    "# Accuracy: 0.65(+/- 0.06)\n",
    "# Cross-predicted Accuracy: 0.6554434180226716"
   ]
  },
  {
   "cell_type": "markdown",
   "metadata": {},
   "source": [
    "#### Prediction with selected features: SVM"
   ]
  },
  {
   "cell_type": "code",
   "execution_count": 169,
   "metadata": {
    "scrolled": true
   },
   "outputs": [
    {
     "name": "stdout",
     "output_type": "stream",
     "text": [
      "cross validation score:  [0.56415762 0.61959577 0.60232492 0.66025589 0.65215808 0.73276236\n",
      " 0.68662424 0.64208606 0.65136553 0.6285674 ]\n",
      "Accuracy: 0.64(+/- 0.09)\n",
      "Cross-predicted Accuracy: 0.6447088310779898\n"
     ]
    }
   ],
   "source": [
    "features_rfe    = features[['v_cont_49','v_cont_55','v_cont_56', 'v_cont_73', 'v_cont_76','v_cont_84','v_cont_85','v_cont_87','v_cont_90','v_cont_95']]\n",
    "features_sb     = features[['v_cont_49','v_cont_55','v_cont_48','v_cont_8','v_cont_50','v_cont_51','v_cont_7','v_cont_20','v_cont_22','v_cont_45']]\n",
    "features_dt     = features[['v_cont_55', 'v_cont_49', 'v_cont_48', 'v_cont_8', 'v_cont_95', 'v_cont_54', 'v_cont_97', 'v_cont_20', 'v_cont_45', 'v_cont_58']]\n",
    "features_forest = features[['v_cont_55', 'v_cont_49', 'v_cont_48', 'v_cont_8','v_cont_54','v_cont_79','v_cont_106','v_cont_111']]\n",
    "target_new = target\n",
    "\n",
    "regressor = svr_base\n",
    "\n",
    "feature_select = features_rfe\n",
    "scores_selectfeature = cross_val_score(regressor, feature_select, target, cv=cv_count)\n",
    "print(\"cross validation score: \", scores_selectfeature)\n",
    "print(\"Accuracy: %0.2f(+/- %0.2f)\"%(scores_selectfeature.mean(), scores_selectfeature.std()*2))\n",
    "\n",
    "predictions = cross_val_predict(regressor, feature_select, target, cv=cv_count)\n",
    "accuracy = metrics.r2_score(target, predictions)\n",
    "print(\"Cross-predicted Accuracy:\", accuracy)\n",
    "\n",
    "# cross validation score:  [0.58642208 0.62923829 0.68646175 0.66830287 0.644102  ]\n",
    "# Accuracy: 0.64(+/- 0.07)\n",
    "# Cross-predicted Accuracy: 0.6437637387149937"
   ]
  },
  {
   "cell_type": "markdown",
   "metadata": {},
   "source": [
    "#### Conclusion: accuracy with 10 selected features is close to the full feature set"
   ]
  },
  {
   "cell_type": "markdown",
   "metadata": {},
   "source": [
    "### Decision Tree"
   ]
  },
  {
   "cell_type": "code",
   "execution_count": 143,
   "metadata": {},
   "outputs": [
    {
     "name": "stdout",
     "output_type": "stream",
     "text": [
      "cross validation score:  [0.10245168 0.31361058 0.34538246 0.27211849 0.27847284]\n",
      "Accuracy: 0.26(+/- 0.17)\n",
      "Cross-predicted Accuracy: 0.26242482154656266\n"
     ]
    }
   ],
   "source": [
    "regressor = tree.DecisionTreeRegressor()\n",
    "#clf = clf.fit(features, target) # regression without CV\n",
    "scores_fullfeature = cross_val_score(regressor, features, target, cv=cv_count)\n",
    "print(\"cross validation score: \", scores_fullfeature)\n",
    "print(\"Accuracy: %0.2f(+/- %0.2f)\"%(scores_fullfeature.mean(), scores_fullfeature.std()*2))\n",
    "\n",
    "predictions = cross_val_predict(regressor, features, target, cv=cv_count)\n",
    "\n",
    "accuracy = metrics.r2_score(target, predictions)\n",
    "print(\"Cross-predicted Accuracy:\", accuracy)\n",
    "\n",
    "# cross validation score:  [0.10245168 0.31361058 0.34538246 0.27211849 0.27847284]\n",
    "# Accuracy: 0.26(+/- 0.17)\n",
    "# Cross-predicted Accuracy: 0.26242482154656266"
   ]
  },
  {
   "cell_type": "markdown",
   "metadata": {},
   "source": [
    "#### Prediction with selected features: Decision Tree"
   ]
  },
  {
   "cell_type": "code",
   "execution_count": 144,
   "metadata": {},
   "outputs": [
    {
     "name": "stdout",
     "output_type": "stream",
     "text": [
      "cross validation score:  [0.183659   0.36247151 0.44602598 0.33832722 0.28923339]\n",
      "Accuracy: 0.32(+/- 0.17)\n",
      "Cross-predicted Accuracy: 0.3526285859550219\n"
     ]
    }
   ],
   "source": [
    "feature_select = features_dt\n",
    "scores_selectfeature = cross_val_score(regressor, feature_select, target, cv=cv_count)\n",
    "print(\"cross validation score: \", scores_selectfeature)\n",
    "print(\"Accuracy: %0.2f(+/- %0.2f)\"%(scores_selectfeature.mean(), scores_selectfeature.std()*2))\n",
    "\n",
    "predictions = cross_val_predict(regressor, feature_select, target, cv=cv_count)\n",
    "accuracy = metrics.r2_score(target, predictions)\n",
    "print(\"Cross-predicted Accuracy:\", accuracy)"
   ]
  },
  {
   "cell_type": "markdown",
   "metadata": {},
   "source": [
    "### KNN"
   ]
  },
  {
   "cell_type": "code",
   "execution_count": 148,
   "metadata": {},
   "outputs": [
    {
     "name": "stdout",
     "output_type": "stream",
     "text": [
      "cross validation score:  [0.16437023 0.3242882  0.37168    0.2610692  0.23114422]\n",
      "Accuracy: 0.27(+/- 0.14)\n",
      "Cross-predicted Accuracy: 0.25443657597836744\n"
     ]
    }
   ],
   "source": [
    "regressor = tree.DecisionTreeRegressor()\n",
    "scores_fullfeature = cross_val_score(regressor, features, target, cv=cv_count)\n",
    "print(\"cross validation score: \", scores_fullfeature)\n",
    "print(\"Accuracy: %0.2f(+/- %0.2f)\"%(scores_fullfeature.mean(), scores_fullfeature.std()*2))\n",
    "\n",
    "predictions = cross_val_predict(regressor, features, target, cv=cv_count)\n",
    "\n",
    "accuracy = metrics.r2_score(target, predictions)\n",
    "print(\"Cross-predicted Accuracy:\", accuracy)\n"
   ]
  },
  {
   "cell_type": "markdown",
   "metadata": {},
   "source": [
    "#### Prediction with selected features: KNN"
   ]
  },
  {
   "cell_type": "code",
   "execution_count": 157,
   "metadata": {},
   "outputs": [
    {
     "name": "stdout",
     "output_type": "stream",
     "text": [
      "cross validation score:  [0.31719369 0.21411315 0.26871375 0.23131947 0.30823379 0.58348508\n",
      " 0.43398389 0.25831884 0.28190832 0.10537655]\n",
      "Accuracy: 0.30(+/- 0.25)\n",
      "Cross-predicted Accuracy: 0.30407979704820043\n"
     ]
    }
   ],
   "source": [
    "feature_select = features_rfe\n",
    "scores_selectfeature = cross_val_score(regressor, feature_select, target, cv=cv_count)\n",
    "print(\"cross validation score: \", scores_selectfeature)\n",
    "print(\"Accuracy: %0.2f(+/- %0.2f)\"%(scores_selectfeature.mean(), scores_selectfeature.std()*2))\n",
    "\n",
    "predictions = cross_val_predict(regressor, feature_select, target, cv=cv_count)\n",
    "accuracy = metrics.r2_score(target, predictions)\n",
    "print(\"Cross-predicted Accuracy:\", accuracy)"
   ]
  },
  {
   "cell_type": "markdown",
   "metadata": {},
   "source": [
    "### Random Forest"
   ]
  },
  {
   "cell_type": "code",
   "execution_count": 168,
   "metadata": {
    "scrolled": true
   },
   "outputs": [
    {
     "name": "stdout",
     "output_type": "stream",
     "text": [
      "cross validation score:  [0.47337836 0.50818785 0.51256966 0.59539048 0.62643043 0.63831034\n",
      " 0.56894194 0.57246909 0.57869827 0.55105908]\n",
      "Accuracy: 0.56(+/- 0.10)\n",
      "Cross-predicted Accuracy: 0.5634702626263526\n"
     ]
    }
   ],
   "source": [
    "# depth of tree 2, number of trees 100\n",
    "regressor = RandomForestRegressor(max_depth=2, random_state=0, n_estimators=100)\n",
    "scores_fullfeature = cross_val_score(regressor, features, target, cv=cv_count)\n",
    "print(\"cross validation score: \", scores_fullfeature)\n",
    "print(\"Accuracy: %0.2f(+/- %0.2f)\"%(scores_fullfeature.mean(), scores_fullfeature.std()*2))\n",
    "\n",
    "predictions = cross_val_predict(regressor, features, target, cv=cv_count)\n",
    "\n",
    "accuracy = metrics.r2_score(target, predictions)\n",
    "print(\"Cross-predicted Accuracy:\", accuracy)\n",
    "\n",
    "# cross validation score:  [0.47337836 0.50818785 0.51256966 0.59539048 0.62643043 0.63831034\n",
    "#  0.56894194 0.57246909 0.57869827 0.55105908]\n",
    "# Accuracy: 0.56(+/- 0.10)"
   ]
  },
  {
   "cell_type": "markdown",
   "metadata": {},
   "source": [
    "#### Prediction with selected features: Random Forest"
   ]
  },
  {
   "cell_type": "code",
   "execution_count": 170,
   "metadata": {},
   "outputs": [
    {
     "name": "stdout",
     "output_type": "stream",
     "text": [
      "cross validation score:  [0.54282045 0.57425864 0.57837188 0.65034893 0.65296021 0.70227148\n",
      " 0.63478688 0.61237552 0.62364641 0.55529938]\n",
      "Accuracy: 0.61(+/- 0.09)\n",
      "Cross-predicted Accuracy: 0.6149497533541618\n"
     ]
    }
   ],
   "source": [
    "feature_select = features_forest\n",
    "scores_selectfeature = cross_val_score(regressor, feature_select, target, cv=cv_count)\n",
    "print(\"cross validation score: \", scores_selectfeature)\n",
    "print(\"Accuracy: %0.2f(+/- %0.2f)\"%(scores_selectfeature.mean(), scores_selectfeature.std()*2))\n",
    "\n",
    "predictions = cross_val_predict(regressor, feature_select, target, cv=cv_count)\n",
    "accuracy = metrics.r2_score(target, predictions)\n",
    "print(\"Cross-predicted Accuracy:\", accuracy)\n",
    "\n",
    "# cross validation score:  [0.54282045 0.57425864 0.57837188 0.65034893 0.65296021 0.70227148\n",
    "#  0.63478688 0.61237552 0.62364641 0.55529938]\n",
    "# Accuracy: 0.61(+/- 0.09)\n",
    "# Cross-predicted Accuracy: 0.6149497533541618"
   ]
  },
  {
   "cell_type": "markdown",
   "metadata": {},
   "source": [
    "### Voting Regressor"
   ]
  },
  {
   "cell_type": "code",
   "execution_count": 54,
   "metadata": {},
   "outputs": [
    {
     "data": {
      "image/png": "[encoded data removed]",
      "text/plain": [
       "<Figure size 360x360 with 1 Axes>"
      ]
     },
     "metadata": {
      "needs_background": "light"
     },
     "output_type": "display_data"
    }
   ],
   "source": [
    "# Training classifier\n",
    "reg1 = GradientBoostingRegressor(random_state=1, n_estimators=10)\n",
    "reg2 = RandomForestRegressor(random_state=1, n_estimators=10)\n",
    "reg3 = LinearRegression()\n",
    "ereg = VotingRegressor(estimators=[('gb', reg1), ('rf', reg2), ('lr', reg3)])\n",
    "reg1.fit(features, target)\n",
    "reg2.fit(features, target)\n",
    "reg3.fit(features, target)\n",
    "ereg.fit(features, target)\n",
    "\n",
    "xt = features[:5]\n",
    "\n",
    "plt.figure()\n",
    "plt.plot(reg1.predict(xt), 'gd', label='GradientBoostingRegressor')\n",
    "plt.plot(reg2.predict(xt), 'b^', label='RandomForestRegressor')\n",
    "plt.plot(reg3.predict(xt), 'ys', label='LinearRegression')\n",
    "#plt.plot(ereg.predict(xt), 'r*', label='VotingRegressor')\n",
    "plt.tick_params(axis='x', which='both', bottom=False, top=False,labelbottom=False)\n",
    "plt.ylabel('predicted')\n",
    "plt.xlabel('training samples')\n",
    "plt.legend(loc=\"best\")\n",
    "plt.title('Comparison of individual predictions with averaged')\n",
    "plt.show()"
   ]
  },
  {
   "cell_type": "code",
   "execution_count": 60,
   "metadata": {},
   "outputs": [
    {
     "name": "stdout",
     "output_type": "stream",
     "text": [
      "   v_cont_5  v_cont_6  v_cont_7  v_cont_8  v_cont_9  v_cont_10  v_cont_11  \\\n",
      "0      0.19      0.33      0.02      0.90      0.12       0.17       0.34   \n",
      "1      0.00      0.16      0.12      0.74      0.45       0.07       0.26   \n",
      "2      0.00      0.42      0.49      0.56      0.17       0.04       0.39   \n",
      "3      0.04      0.77      1.00      0.08      0.12       0.10       0.51   \n",
      "4      0.01      0.55      0.02      0.95      0.09       0.05       0.38   \n",
      "5      0.02      0.28      0.06      0.54      1.00       0.25       0.31   \n",
      "6      0.01      0.39      0.00      0.98      0.06       0.02       0.30   \n",
      "7      0.01      0.74      0.03      0.46      0.20       1.00       0.52   \n",
      "8      0.03      0.34      0.20      0.84      0.02       0.00       0.38   \n",
      "9      0.01      0.40      0.06      0.87      0.30       0.03       0.90   \n",
      "\n",
      "   v_cont_12  v_cont_13  v_cont_14     ...      v_cont_117  v_cont_118  \\\n",
      "0       0.47       0.29       0.32     ...        0.290000        0.12   \n",
      "1       0.59       0.35       0.27     ...        0.305987        0.02   \n",
      "2       0.47       0.28       0.32     ...        0.305987        0.01   \n",
      "3       0.50       0.34       0.21     ...        0.305987        0.02   \n",
      "4       0.38       0.23       0.36     ...        0.305987        0.04   \n",
      "5       0.48       0.27       0.37     ...        0.305987        0.01   \n",
      "6       0.37       0.23       0.60     ...        0.305987        0.05   \n",
      "7       0.55       0.36       0.35     ...        0.305987        0.01   \n",
      "8       0.45       0.28       0.48     ...        0.305987        0.04   \n",
      "9       0.82       0.80       0.39     ...        0.305987        0.00   \n",
      "\n",
      "   v_cont_119  v_cont_120  v_cont_121  v_cont_122  v_cont_123  v_cont_124  \\\n",
      "0        0.26        0.20    0.060000    0.040000    0.900000    0.500000   \n",
      "1        0.12        0.45    0.163103    0.076708    0.698589    0.440439   \n",
      "2        0.21        0.02    0.163103    0.076708    0.698589    0.440439   \n",
      "3        0.39        0.28    0.163103    0.076708    0.698589    0.440439   \n",
      "4        0.09        0.02    0.163103    0.076708    0.698589    0.440439   \n",
      "5        0.58        0.10    0.163103    0.076708    0.698589    0.440439   \n",
      "6        0.08        0.06    0.163103    0.076708    0.698589    0.440439   \n",
      "7        0.33        0.00    0.163103    0.076708    0.698589    0.440439   \n",
      "8        0.17        0.04    0.163103    0.076708    0.698589    0.440439   \n",
      "9        0.47        0.11    0.163103    0.076708    0.698589    0.440439   \n",
      "\n",
      "   v_cont_125  v_cont_126  \n",
      "0        0.32    0.140000  \n",
      "1        0.00    0.195078  \n",
      "2        0.00    0.195078  \n",
      "3        0.00    0.195078  \n",
      "4        0.00    0.195078  \n",
      "5        0.00    0.195078  \n",
      "6        0.00    0.195078  \n",
      "7        0.00    0.195078  \n",
      "8        0.00    0.195078  \n",
      "9        0.00    0.195078  \n",
      "\n",
      "[10 rows x 122 columns]\n"
     ]
    }
   ],
   "source": [
    "xt1 = features[:10]\n",
    "print(ereg.predict(xt1))\n",
    "print(features[:10])"
   ]
  },
  {
   "cell_type": "markdown",
   "metadata": {},
   "source": [
    "### XGBoost\n",
    "* learning_rate: step size shrinkage used to prevent overfitting. Range is [0,1]\n",
    "* max_depth: determines how deeply each tree is allowed to grow during any boosting round.\n",
    "* subsample: percentage of samples used per tree. Low value can lead to underfitting.\n",
    "* colsample_bytree: percentage of features used per tree. High value can lead to overfitting.\n",
    "* n_estimators: number of trees you want to build.\n",
    "* objective: determines the loss function to be used like reg:linear for regression problems, reg:logistic for classification problems with only decision, binary:logistic for classification problems with probability.\n",
    "\n",
    "* gamma: controls whether a given node will split based on the expected reduction in loss after the split. A higher value leads to fewer splits. Supported only for tree-based learners.\n",
    "* alpha: L1 regularization on leaf weights. A large value leads to more regularization.\n",
    "* lambda: L2 regularization on leaf weights and is smoother than L1 regularization.\n"
   ]
  },
  {
   "cell_type": "code",
   "execution_count": 63,
   "metadata": {},
   "outputs": [
    {
     "name": "stdout",
     "output_type": "stream",
     "text": [
      "RMSE: 0.183738\n",
      "49    0.142887\n",
      "Name: test-rmse-mean, dtype: float64\n"
     ]
    },
    {
     "data": {
      "image/png": "[encoded data removed]",
      "text/plain": [
       "<Figure size 360x360 with 1 Axes>"
      ]
     },
     "metadata": {
      "needs_background": "light"
     },
     "output_type": "display_data"
    },
    {
     "data": {
      "image/png": "[encoded data removed]",
      "text/plain": [
       "<Figure size 3600x1440 with 1 Axes>"
      ]
     },
     "metadata": {
      "needs_background": "light"
     },
     "output_type": "display_data"
    },
    {
     "name": "stdout",
     "output_type": "stream",
     "text": [
      "[0.0000000e+00 2.9103213e-03 3.4185417e-02 1.2699836e-01 3.4597002e-03\n",
      " 5.4199360e-03 0.0000000e+00 0.0000000e+00 0.0000000e+00 4.6850657e-03\n",
      " 9.3041975e-03 0.0000000e+00 0.0000000e+00 0.0000000e+00 1.8911116e-03\n",
      " 1.2555349e-02 1.4218757e-03 4.2706425e-03 0.0000000e+00 1.4624668e-03\n",
      " 0.0000000e+00 0.0000000e+00 1.7905445e-03 3.0093456e-03 4.0391628e-03\n",
      " 5.8930647e-03 6.0798889e-03 1.3380212e-02 1.0644966e-02 1.4483555e-02\n",
      " 6.0645407e-03 3.9665182e-03 4.7891210e-03 0.0000000e+00 0.0000000e+00\n",
      " 7.1791355e-03 0.0000000e+00 6.0899089e-05 1.2086352e-02 0.0000000e+00\n",
      " 0.0000000e+00 1.1254483e-02 3.7990394e-03 4.0866304e-02 6.4211309e-02\n",
      " 2.1587698e-02 0.0000000e+00 0.0000000e+00 4.0762406e-03 9.3260802e-02\n",
      " 1.5958118e-01 0.0000000e+00 0.0000000e+00 4.2860913e-03 3.9720801e-03\n",
      " 6.7769699e-03 0.0000000e+00 1.6955638e-02 8.3839474e-03 7.8912023e-03\n",
      " 6.0316133e-03 5.3227507e-03 9.2824809e-03 3.4442667e-03 0.0000000e+00\n",
      " 1.7597189e-03 7.3924409e-03 7.7803629e-03 0.0000000e+00 7.5211199e-03\n",
      " 0.0000000e+00 8.1791626e-03 6.6070515e-03 6.7894533e-03 6.0057607e-03\n",
      " 0.0000000e+00 4.3845908e-03 9.2151035e-03 6.9763907e-03 5.2649109e-03\n",
      " 0.0000000e+00 0.0000000e+00 2.5239582e-03 1.0750191e-02 0.0000000e+00\n",
      " 1.0284051e-02 4.1535650e-03 6.0012420e-03 4.8544537e-03 8.8737411e-03\n",
      " 8.2989512e-03 3.2057608e-03 1.4379953e-02 4.4699521e-03 1.5683852e-02\n",
      " 4.6988842e-03 0.0000000e+00 2.8971378e-03 0.0000000e+00 0.0000000e+00\n",
      " 0.0000000e+00 5.7943757e-03 3.4162656e-03 0.0000000e+00 0.0000000e+00\n",
      " 2.3686183e-03 1.0788143e-02 0.0000000e+00 0.0000000e+00 6.3988660e-03\n",
      " 6.5136780e-03 3.3370503e-03 0.0000000e+00 3.8824268e-03 1.2705519e-03\n",
      " 0.0000000e+00 0.0000000e+00 0.0000000e+00 4.2623924e-03 0.0000000e+00\n",
      " 0.0000000e+00 0.0000000e+00]\n"
     ]
    },
    {
     "data": {
      "image/png": "[encoded data removed]",
      "text/plain": [
       "<Figure size 360x360 with 1 Axes>"
      ]
     },
     "metadata": {
      "needs_background": "light"
     },
     "output_type": "display_data"
    },
    {
     "name": "stdout",
     "output_type": "stream",
     "text": [
      "           Importance\n",
      "v_cont_55    0.159581\n",
      "v_cont_8     0.126998\n",
      "v_cont_54    0.093261\n",
      "v_cont_49    0.064211\n",
      "v_cont_48    0.040866\n",
      "v_cont_7     0.034185\n",
      "v_cont_50    0.021588\n",
      "v_cont_62    0.016956\n",
      "v_cont_99    0.015684\n",
      "v_cont_34    0.014484\n"
     ]
    }
   ],
   "source": [
    "# Convert dataset to dmatrix, which xgboost supports for high performance\n",
    "data_dmatrix = xgb.DMatrix(data=features,label=target)\n",
    "\n",
    "X_train, X_test, y_train, y_test = train_test_split(features, target, test_size=0.2, random_state=123)\n",
    "\n",
    "xg_reg = xgb.XGBRegressor(objective ='reg:squarederror', colsample_bytree = 0.3, learning_rate = 0.1,\n",
    "                max_depth = 5, alpha = 10, n_estimators = 10)\n",
    "\n",
    "xg_reg.fit(X_train,y_train)\n",
    "\n",
    "preds = xg_reg.predict(X_test)\n",
    "\n",
    "rmse = np.sqrt(mean_squared_error(y_test, preds))\n",
    "print(\"RMSE: %f\" % (rmse))\n",
    "\n",
    "params = {\"objective\":\"reg:squarederror\",'colsample_bytree': 0.3,'learning_rate': 0.1,\n",
    "                'max_depth': 5, 'alpha': 10}\n",
    "\n",
    "cv_results = xgb.cv(dtrain=data_dmatrix, params=params, nfold=3,\n",
    "                    num_boost_round=50,early_stopping_rounds=10,metrics=\"rmse\", as_pandas=True, seed=123)\n",
    "\n",
    "\n",
    "cv_results.head()\n",
    "print((cv_results[\"test-rmse-mean\"]).tail(1))\n",
    "\n",
    "xgb.plot_tree(xg_reg,num_trees=0)\n",
    "plt.rcParams['figure.figsize'] = [50, 20]\n",
    "plt.show()\n",
    "\n",
    "xgb.plot_importance(xg_reg)\n",
    "plt.rcParams['figure.figsize'] = [5, 5]\n",
    "plt.show()\n",
    "\n",
    "print(xg_reg.feature_importances_)\n",
    "plt.bar(range(len(xg_reg.feature_importances_)), xg_reg.feature_importances_)\n",
    "plt.show()\n",
    "\n",
    "# Feature Selection\n",
    "#importantFeatures[:KEEP_FEATURES]\n",
    "df_xgb=pd.DataFrame(xg_reg.feature_importances_, columns = [\"Importance\"], index = features.columns).sort_values(['Importance'], ascending = False)[:KEEP_FEATURES]\n",
    "print(df_xgb)"
   ]
  },
  {
   "cell_type": "code",
   "execution_count": 52,
   "metadata": {},
   "outputs": [
    {
     "name": "stdout",
     "output_type": "stream",
     "text": [
      "XGBRegressor(alpha=10, base_score=0.5, booster='gbtree', colsample_bylevel=1,\n",
      "             colsample_bynode=1, colsample_bytree=0.3, gamma=0,\n",
      "             importance_type='gain', learning_rate=0.1, max_delta_step=0,\n",
      "             max_depth=5, min_child_weight=1, missing=None, n_estimators=10,\n",
      "             n_jobs=1, nthread=None, objective='reg:squarederror',\n",
      "             random_state=0, reg_alpha=0, reg_lambda=1, scale_pos_weight=1,\n",
      "             seed=None, silent=None, subsample=1, verbosity=1)\n"
     ]
    }
   ],
   "source": [
    "print (xg_reg)"
   ]
  },
  {
   "cell_type": "code",
   "execution_count": null,
   "metadata": {},
   "outputs": [],
   "source": [
    "%reset"
   ]
  }
 ],
 "metadata": {
  "kernelspec": {
   "display_name": "Python 3",
   "language": "python",
   "name": "python3"
  },
  "language_info": {
   "codemirror_mode": {
    "name": "ipython",
    "version": 3
   },
   "file_extension": ".py",
   "mimetype": "text/x-python",
   "name": "python",
   "nbconvert_exporter": "python",
   "pygments_lexer": "ipython3",
   "version": "3.7.1"
  }
 },
 "nbformat": 4,
 "nbformat_minor": 2
}
